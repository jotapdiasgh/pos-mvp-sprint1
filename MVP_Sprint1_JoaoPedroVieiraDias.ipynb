{
  "nbformat": 4,
  "nbformat_minor": 0,
  "metadata": {
    "colab": {
      "provenance": [],
      "collapsed_sections": [
        "YW_JS-EEBFaR",
        "DObGnkf0bJBh",
        "XcHpQ9s_B4n1",
        "5kuan1F5EA8J",
        "TxvLGlPj7MkU",
        "4T_Vew9tDBU-",
        "ZAMyfHK5QE2p",
        "pwmgRU62h6Gj",
        "HxjXi7Yj3Rsn",
        "9H5ZBYACBddo",
        "GcM47VX2D-mK",
        "yd6XtpykHfHZ",
        "yeg-JlffJ-nW",
        "J5ay96k8O7V0",
        "Y4c4JF7cTcAp",
        "iyeX_6tfZKRC",
        "TS1gZbiBJGQ7",
        "PII7Mh3YwREz",
        "BodIFWbDLxPM",
        "JPK9llB1s0l5",
        "LNvuJaVkxnhA",
        "XpBpCUqkuInu",
        "zxWMQGQkeW5v",
        "rHRDDV6avREL",
        "0rflcXAU88G2",
        "S7kjmpSqTf8X",
        "YxXR2N-1fVHS",
        "1UzgMdYYjgU3",
        "HWL5dLGLhP_b",
        "6rS_mwNKJ9pZ",
        "cnZ_gnHtNP7Q",
        "h5YcD9R3sI86",
        "QAhY3qoEr7aw"
      ],
      "include_colab_link": true
    },
    "kernelspec": {
      "name": "python3",
      "display_name": "Python 3"
    },
    "language_info": {
      "name": "python"
    }
  },
  "cells": [
    {
      "cell_type": "markdown",
      "metadata": {
        "id": "view-in-github",
        "colab_type": "text"
      },
      "source": [
        "<a href=\"https://colab.research.google.com/github/jotapdiasgh/pos-mvp-sprint1/blob/main/MVP_Sprint1_JoaoPedroVieiraDias.ipynb\" target=\"_parent\"><img src=\"https://colab.research.google.com/assets/colab-badge.svg\" alt=\"Open In Colab\"/></a>"
      ]
    },
    {
      "cell_type": "markdown",
      "source": [
        "# MVP Análise de Dados e Boas Práticas\n",
        "\n",
        "**Nome:** João Pedro Vieira Dias\n",
        "\n",
        "**Matrícula:** 4052025000227\n",
        "\n",
        "**Dataset:** [Bank Marketing](https://archive.ics.uci.edu/dataset/222/bank+marketing)"
      ],
      "metadata": {
        "id": "cmYX3PLx58Jg"
      }
    },
    {
      "cell_type": "markdown",
      "source": [
        "# Descrição do Problema\n",
        "\n",
        "Essa seção traz as disposições iniciais sobre o dataset **Bank Marketing**, que compila informações acerca de uma campanha de marketing, feita por um banco português com seus clientes, a fim de convencê-los a aderir a modalidade de depósito a prazo no âmbito de investimentos. Ele foi escolhido por trazer informações reais, incluir dados socioeconômicos (envolve parte do meu emprego atual) e permitir a aplicação de uma série de técnicas de análise exploratória e de pré-processamento de dados vistas na Sprint."
      ],
      "metadata": {
        "id": "YW_JS-EEBFaR"
      }
    },
    {
      "cell_type": "markdown",
      "source": [
        "## Hipóteses do Problema\n",
        "\n",
        "As hipóteses iniciais, levando em conta o senso comum frente ao contexto do dataset, são as seguintes:\n",
        "\n",
        "1. A taxa de conversão é baixa no geral.\n",
        "\n",
        "2. Clientes mais velhos possuem taxa de conversão maior.\n",
        "\n",
        "3. Clientes com empregos operacionais ('blue-collar') possuem taxa de conversão menor\n",
        "\n",
        "4. Clientes casados possuem taxa de conversão maior.\n",
        "\n",
        "5. Clientes com maior escolaridade possuem taxa de conversão maior.\n",
        "\n",
        "6. Clientes com histórico de inadimplência possuem taxa de conversão menor.\n",
        "\n",
        "7. Clientes com algum tipo de crédito tomado (financiamento habitacional ou empréstimo pessoal) possuem taxa de conversão menor.\n",
        "\n",
        "8. Existem valores ausentes no dataset."
      ],
      "metadata": {
        "id": "Gm6mOo5PBYwr"
      }
    },
    {
      "cell_type": "markdown",
      "source": [
        "## Tipo de Problema\n",
        "\n",
        "Por possuir um conjunto de informações de entrada (socioeconômicas e relacionadas à forma da campanha) e de saída (se o cliente aderiu ou não ao investimento > dimensão *target* com valor binário *sim* ou *não*), entendo que o presente dataset apresente um problema de **classificação supervisionada**."
      ],
      "metadata": {
        "id": "x1zNNZt6BfdF"
      }
    },
    {
      "cell_type": "markdown",
      "source": [
        "## Seleção de Dados\n",
        "\n",
        "O dataset Bank Marketing representa um conjunto de dados com boas informações exploráveis através de bibliotecas apresentadas na Sprint. Por já estar pronto, não há necessidade de uma etapa de seleção ou restrição de dados externa."
      ],
      "metadata": {
        "id": "N91bTLbiBxrm"
      }
    },
    {
      "cell_type": "markdown",
      "source": [
        "## Atributos do Dataset\n",
        "\n",
        "O dataset Bank Marketing contém 45.211 amostras dispostas em 17 dimensões, a saber:\n",
        "\n",
        "- ***age*** - idade do cliente\n",
        "- ***job*** - emprego do cliente\n",
        "- ***marital*** - estado civil do cliente\n",
        "- ***education*** - escolaridade do cliente\n",
        "- ***default*** - presença de inadimplência em crédito do cliente\n",
        "- ***balance*** - salário médio anual do cliente\n",
        "- ***housing*** - presença de financiamento habitacional\n",
        "- ***loan*** - presença de empréstimo pessoal\n",
        "- ***contact*** - tipo de contato com o cliente\n",
        "- ***day*** - dia do mês do último contato com o cliente\n",
        "- ***month*** - mês do último contato com o cliente\n",
        "- ***duration*** - duração em segundos do último contato com o cliente\n",
        "- ***campaign*** - número de contatos feitos com o cliente\n",
        "- ***pdays*** - número de dias desde o último contato com o cliente na última campanha\n",
        "- ***previous*** - número de contatos feitos com o cliente antes da campanha atual\n",
        "- ***poutcome*** - resultado da última campanha\n",
        "- ***y*** - resultado da campanha atual"
      ],
      "metadata": {
        "id": "FC6QJHhWBnzH"
      }
    },
    {
      "cell_type": "markdown",
      "source": [
        "# Importação das Bibliotecas Necessárias e Carga de Dados\n",
        "\n",
        "Essa seção consolida todas as importações de bibliotecas necessárias para a análise, visualização e pré-processamento dos dados, bem como o carregamento inicial do dataset Bank Marketing."
      ],
      "metadata": {
        "id": "DObGnkf0bJBh"
      }
    },
    {
      "cell_type": "code",
      "source": [
        "# importações\n",
        "import pandas as pd\n",
        "import matplotlib.pyplot as plt\n",
        "import seaborn as sns\n",
        "import numpy as np\n",
        "from sklearn.preprocessing import LabelEncoder\n",
        "from sklearn.model_selection import train_test_split\n",
        "from sklearn.preprocessing import MinMaxScaler"
      ],
      "metadata": {
        "id": "tCohWn2jbkDB"
      },
      "execution_count": null,
      "outputs": []
    },
    {
      "cell_type": "code",
      "source": [
        "# carregamento do dataset via url raw do github\n",
        "url = 'https://raw.githubusercontent.com/jotapdiasgh/pos-mvp-sprint1/refs/heads/main/bank-full.csv'"
      ],
      "metadata": {
        "id": "BIokzI3xb8_t"
      },
      "execution_count": null,
      "outputs": []
    },
    {
      "cell_type": "code",
      "source": [
        "# guardando o dataset em um dataframe com a devida formatação para melhor legibilidade\n",
        "df = pd.read_csv(url, sep=';')"
      ],
      "metadata": {
        "id": "RCPbhofsE59F"
      },
      "execution_count": null,
      "outputs": []
    },
    {
      "cell_type": "markdown",
      "source": [
        "# Análise de Dados\n",
        "\n",
        "Essa seção abarca técnicas referentes à análise exploratória e visualização de dados sobre o dataset Bank Marketing, de modo a compreender como suas variáveis estão distribuídas, como se relacionam entre si e quais são as características mais importantes para suportar a etapa posterior de pré-processamento dos dados."
      ],
      "metadata": {
        "id": "XcHpQ9s_B4n1"
      }
    },
    {
      "cell_type": "markdown",
      "source": [
        "## Total e tipo das instâncias\n",
        "\n",
        "O dataset Bank Marketing possui 45.211 instâncias (observações). Das 17 dimensões (colunas), 7 são do tipo numérico (integer) e 10 são do tipo categórico."
      ],
      "metadata": {
        "id": "5kuan1F5EA8J"
      }
    },
    {
      "cell_type": "code",
      "source": [
        "# informações de identificação do dataset\n",
        "print(f\"O dataset possui {df.shape[0]} instâncias e {df.shape[1]} dimensões\")\n",
        "print(\"\\nTipos de dados por dimensão:\\n\")\n",
        "print(df.info())"
      ],
      "metadata": {
        "id": "3asH5qmbHKVe"
      },
      "execution_count": null,
      "outputs": []
    },
    {
      "cell_type": "markdown",
      "source": [
        "## Primeiras linhas do dataset"
      ],
      "metadata": {
        "id": "TxvLGlPj7MkU"
      }
    },
    {
      "cell_type": "code",
      "source": [
        "# primeiras linhas do dataset\n",
        "df.head()"
      ],
      "metadata": {
        "id": "dvcJmnB27M-k"
      },
      "execution_count": null,
      "outputs": []
    },
    {
      "cell_type": "markdown",
      "source": [
        "Já nos primeiros dados conseguimos observar que podem faltar informações sobre o tipo de contato (contact) e se houve ou não conversão na última campanha (poutcome); ademais, a validação dos dias desde o último contato na campanha anterior (pdays) pode prejudicar algumas análises mais a frente."
      ],
      "metadata": {
        "id": "avyKxtF97NhP"
      }
    },
    {
      "cell_type": "markdown",
      "source": [
        "## Estatísticas descritivas\n",
        "\n",
        "Usando estatística descritiva, observamos as principais características de cada dimensão para uma análise inicial"
      ],
      "metadata": {
        "id": "4T_Vew9tDBU-"
      }
    },
    {
      "cell_type": "code",
      "source": [
        "# apresentação das estatísticas descritivas do dataset\n",
        "print(\"\\nEstatísticas descritivas:\")\n",
        "df.describe(include='all')"
      ],
      "metadata": {
        "id": "yEn898xfDAXC"
      },
      "execution_count": null,
      "outputs": []
    },
    {
      "cell_type": "markdown",
      "source": [
        "**Dimensões numéricas**\n",
        "- Os clientes contatados possuem uma média de 41 anos (mais novo = 18 / mais velho = 95), e a maior parte desses clientes tem idades variando entre 31 e 51 anos\n",
        "\n",
        "- Os clientes contatados possuem uma média de renda anual média de 1.362 € (menor = -8.019 € / maior = 102.127 €), e a maior parte desses clientes tem renda anual média entre -1.682 € e 4.406 €\n",
        "\n",
        "- Os clientes foram contatados majoritariamente no dia 16, e a maior parte desses clientes recebeu contatos entre os dias 8 e 24\n",
        "\n",
        "- Os clientes contatados permaneceram em ligação, em média, por 258 segundos\n",
        "(menor duração = 0 / maior duração = 4.918), e a maior parte desses clientes ficaram em ligação entre 1 e 515 segundos > 0 indica que as ligações não foram sequer completadas\n",
        "\n",
        "- Os clientes tiveram 3 contatos em média (menor quantidade = 1 / maior quantidade = 63), e a maior parte desses clientes recebeu entre 0 e 6 contatos > 0 indica que as ligações não foram sequer completadas\n",
        "\n",
        "- Os clientes ficaram sem contato desde a última campanha por 40 dias, em média (menor intervalo = -1 / maior intervalo = 871), e a maior parte desses clientes ficou sem contato entre -60 e 140 dias > os números negativos indicam que não foram contatados na última campanha\n",
        "\n",
        "- Os clientes tiveram, antes da campanha em análise, 1 contato em média (menor quantidade = 0 / maior quantidade = 275), e a maior parte desses clientes recebeu entre -1 e 3 contatos > 0 e números negativos indicam que não houve contato registrado\n",
        "\n",
        "**Dimensões categóricas**\n",
        "- Os clientes contatados estão empregados, em sua maioria, em cargos operacionais (blue-collar): são 9.732 instâncias\n",
        "\n",
        "- Os clientes contatados são, em sua maioria, casados: são 27.214 instâncias\n",
        "\n",
        "- Os clientes contatados possuem, em sua maioria, escolaridade secundária (até os 18 anos, semelhante ao ensino médio no Brasil): são 23.202 instâncias\n",
        "\n",
        "- Os clientes contatados estão, em sua maioria, com inadimplência em créditos: são 44.396 instâncias\n",
        "\n",
        "- Os clientes contatados possuem, em sua maioria, financiamento habitacional: são 25.130 instâncias\n",
        "\n",
        "- Os clientes contatados possuem, em sua maioria, empréstimo pessoal: são 37.967 instâncias\n",
        "\n",
        "- Os clientes contatados foram, em sua maioria, contatados de alguma forma: são 29.285 instâncias\n",
        "\n",
        "- Os clientes foram contatados, em sua maioria, em maio: são 13.766 instâncias\n",
        "\n",
        "- Dos clientes contatados, em sua maioria, não há informação de conversão com sucesso ou não na última campanha: são 36.959 instâncias\n",
        "\n",
        "- Dos clientes contatados, em sua maioria, não houve conversão com sucesso: são 39.922 instâncias"
      ],
      "metadata": {
        "id": "ZyLAiJPNir6Q"
      }
    },
    {
      "cell_type": "markdown",
      "source": [
        "### Variáveis qualitativas\n",
        "\n",
        "Como identificado que a conversão da campanha é muito baixa (a instância \"no\" da dimensão \"y\" aparece 39.992 vezes > 88,46% do dataset), é importante mapear inicialmente como as variáveis qualitativas estão distribuídas nesse conjunto em função da conversão positiva ou negativa."
      ],
      "metadata": {
        "id": "ZAMyfHK5QE2p"
      }
    },
    {
      "cell_type": "markdown",
      "source": [
        "#### Análise - tipo de emprego"
      ],
      "metadata": {
        "id": "pwmgRU62h6Gj"
      }
    },
    {
      "cell_type": "code",
      "source": [
        "# ----- primeiro gráfico, sem relação com a variável target 'y'\n",
        "# área para plotar o gráfico\n",
        "plt.figure(figsize=(12,6))\n",
        "\n",
        "# seleção da variável e configuração da plotagem\n",
        "ax = df['job'].value_counts().sort_values(ascending=True).plot(kind='barh', color='#FFAE80')\n",
        "\n",
        "# adição de rótulo nos dados\n",
        "for container in ax.containers:\n",
        "    ax.bar_label(container, label_type='edge', padding=3, color='#212738')\n",
        "\n",
        "# configuração dos aspectos do gráfico\n",
        "ax.set_title('Quantidade de clientes por tipo de emprego')\n",
        "ax.set_ylabel('Tipo de emprego')\n",
        "ax.set_xlabel('Quantidade de clientes')\n",
        "\n",
        "# visualização da plotagem\n",
        "plt.show()"
      ],
      "metadata": {
        "id": "acR9rlg9RkZd"
      },
      "execution_count": null,
      "outputs": []
    },
    {
      "cell_type": "markdown",
      "source": [
        "Somente empregos operacionais (blue-collar) representam 21,53% do dataset. Se somarmos estes aos empregos de gestão (management) e técnicos (technician), teremos 59,25% do dataset."
      ],
      "metadata": {
        "id": "s0Pa1xt7WlQ5"
      }
    },
    {
      "cell_type": "code",
      "source": [
        "# ----- segundo gráfico, relacionando com a variável target 'y'\n",
        "# área para plotar o gráfico\n",
        "fig, ax = plt.subplots(figsize=(12, 6))\n",
        "\n",
        "# agrupamento de dados por 'job' e 'y'\n",
        "contagem_job_y = df.groupby(['job', 'y']).size().unstack()\n",
        "\n",
        "# ordenação pela conversão predominante\n",
        "contagem_job_y = contagem_job_y.sort_values('no')\n",
        "\n",
        "# seleção do agrupamento e configuração da plotagem\n",
        "contagem_job_y.plot(kind='barh', stacked=True, color=['#F17300', '#3E7CB1'], ax=ax)\n",
        "\n",
        "# adição de rótulo nos dados e melhor ajuste\n",
        "for i, container in enumerate(ax.containers):\n",
        "    if i == 0:  # Primeira categoria (base)\n",
        "        ax.bar_label(container,\n",
        "                    label_type='center',\n",
        "                    fontsize=8,\n",
        "                    color='#212738')\n",
        "    else:  # Segunda categoria (topo)\n",
        "        ax.bar_label(container,\n",
        "                    label_type='edge',\n",
        "                    fontsize=8,\n",
        "                    color='#212738')\n",
        "\n",
        "# configuração dos aspectos do gráfico\n",
        "plt.title('Quantidade de clientes por tipo de emprego x conversão à campanha')\n",
        "plt.xlabel('Quantidade de clientes')\n",
        "plt.ylabel('Tipo de emprego')\n",
        "plt.legend(title='Conversão à campanha')\n",
        "\n",
        "# visualização da plotagem\n",
        "plt.show()"
      ],
      "metadata": {
        "id": "bUkiPBiNlBDZ"
      },
      "execution_count": null,
      "outputs": []
    },
    {
      "cell_type": "markdown",
      "source": [
        "Quando relacionado à variável target 'y', vemos que há certa proporcionalidade em relação ao número total por tipo de emprego, porém, com algum distanciamento: vai de 71,32% do total (student > estudantes) a 92,73% do total (blue-collar > operacionais)"
      ],
      "metadata": {
        "id": "Tsrv59iX1Gz-"
      }
    },
    {
      "cell_type": "markdown",
      "source": [
        "#### Análise - estado civil"
      ],
      "metadata": {
        "id": "HxjXi7Yj3Rsn"
      }
    },
    {
      "cell_type": "code",
      "source": [
        "# ----- primeiro gráfico, sem relação com a variável target 'y'\n",
        "# área para plotar o gráfico\n",
        "plt.figure(figsize=(14,6))\n",
        "\n",
        "# seleção da variável e configuração da plotagem\n",
        "ax = df['marital'].value_counts().sort_values(ascending=True).plot(kind='barh', color='#FFAE80')\n",
        "\n",
        "# adição de rótulo nos dados\n",
        "for container in ax.containers:\n",
        "    ax.bar_label(container, label_type='edge', padding=3, color='#212738')\n",
        "\n",
        "# configuração dos aspectos do gráfico\n",
        "ax.set_title('Quantidade de clientes por estado civil')\n",
        "ax.set_ylabel('Estado civil')\n",
        "ax.set_xlabel('Quantidade de clientes')\n",
        "\n",
        "# visualização da plotagem\n",
        "plt.show()"
      ],
      "metadata": {
        "id": "8HXNi0f496lm"
      },
      "execution_count": null,
      "outputs": []
    },
    {
      "cell_type": "markdown",
      "source": [
        "Somente os clientes casados (married) respondem por 60,19% do dataset."
      ],
      "metadata": {
        "id": "nibBiQjV-pfM"
      }
    },
    {
      "cell_type": "code",
      "source": [
        "# ----- segundo gráfico, relacionando com a variável target 'y'\n",
        "# área para plotar o gráfico\n",
        "fig, ax = plt.subplots(figsize=(16, 6))\n",
        "\n",
        "# agrupamento de dados por 'job' e 'y'\n",
        "contagem_job_y = df.groupby(['marital', 'y']).size().unstack()\n",
        "\n",
        "# ordenação pela conversão predominante\n",
        "contagem_job_y = contagem_job_y.sort_values('no')\n",
        "\n",
        "# seleção do agrupamento e configuração da plotagem\n",
        "contagem_job_y.plot(kind='barh', stacked=True, color=['#F17300', '#3E7CB1'], ax=ax)\n",
        "\n",
        "# adição de rótulo nos dados e melhor ajuste\n",
        "for i, container in enumerate(ax.containers):\n",
        "    if i == 0:  # Primeira categoria (base)\n",
        "        ax.bar_label(container,\n",
        "                    label_type='center',\n",
        "                    color='#212738')\n",
        "    else:  # Segunda categoria (topo)\n",
        "        ax.bar_label(container,\n",
        "                    label_type='edge',\n",
        "                    color='#212738')\n",
        "\n",
        "# configuração dos aspectos do gráfico\n",
        "plt.title('Quantidade de clientes por estado civil x conversão à campanha')\n",
        "plt.xlabel('Quantidade de clientes')\n",
        "plt.ylabel('Estado civil')\n",
        "plt.legend(title='Conversão à campanha')\n",
        "\n",
        "# visualização da plotagem\n",
        "plt.show()"
      ],
      "metadata": {
        "id": "sra8qEGD-ZG3"
      },
      "execution_count": null,
      "outputs": []
    },
    {
      "cell_type": "markdown",
      "source": [
        "Quando relacionado à variável target 'y', também vemos que há certa proporcionalidade em relação ao número total por estado civil: vai de 85,05% do total (single > solteiros) a 89,88% do total (married > casados)"
      ],
      "metadata": {
        "id": "ZBqNzeoP-GpL"
      }
    },
    {
      "cell_type": "markdown",
      "source": [
        "#### Análise - escolaridade"
      ],
      "metadata": {
        "id": "9H5ZBYACBddo"
      }
    },
    {
      "cell_type": "code",
      "source": [
        "# ----- primeiro gráfico, sem relação com a variável target 'y'\n",
        "# área para plotar o gráfico\n",
        "plt.figure(figsize=(14,6))\n",
        "\n",
        "# seleção da variável e configuração da plotagem\n",
        "ax = df['education'].value_counts().sort_values(ascending=True).plot(kind='barh', color='#FFAE80')\n",
        "\n",
        "# adição de rótulo nos dados\n",
        "for container in ax.containers:\n",
        "    ax.bar_label(container, label_type='edge', padding=3, color='#212738')\n",
        "\n",
        "# configuração dos aspectos do gráfico\n",
        "ax.set_title('Quantidade de clientes por escolaridade')\n",
        "ax.set_ylabel('Escolaridade')\n",
        "ax.set_xlabel('Quantidade de clientes')\n",
        "\n",
        "# visualização da plotagem\n",
        "plt.show()"
      ],
      "metadata": {
        "id": "_MfWXbqxBhqS"
      },
      "execution_count": null,
      "outputs": []
    },
    {
      "cell_type": "markdown",
      "source": [
        "Somente os clientes secundaristas (secondary > similar ao ensino médio no Brasil) respondem por 51,32% do dataset."
      ],
      "metadata": {
        "id": "gSq-BkfjBqIB"
      }
    },
    {
      "cell_type": "code",
      "source": [
        "# ----- segundo gráfico, relacionando com a variável target 'y'\n",
        "# área para plotar o gráfico\n",
        "fig, ax = plt.subplots(figsize=(16, 6))\n",
        "\n",
        "# agrupamento de dados por 'job' e 'y'\n",
        "contagem_job_y = df.groupby(['education', 'y']).size().unstack()\n",
        "\n",
        "# ordenação pela conversão predominante\n",
        "contagem_job_y = contagem_job_y.sort_values('no')\n",
        "\n",
        "# seleção do agrupamento e configuração da plotagem\n",
        "contagem_job_y.plot(kind='barh', stacked=True, color=['#F17300', '#3E7CB1'], ax=ax)\n",
        "\n",
        "# adição de rótulo nos dados e melhor ajuste\n",
        "for i, container in enumerate(ax.containers):\n",
        "    if i == 0:  # Primeira categoria (base)\n",
        "        ax.bar_label(container,\n",
        "                    label_type='center',\n",
        "                    color='#212738')\n",
        "    else:  # Segunda categoria (topo)\n",
        "        ax.bar_label(container,\n",
        "                    label_type='edge',\n",
        "                    color='#212738')\n",
        "\n",
        "# configuração dos aspectos do gráfico\n",
        "plt.title('Quantidade de clientes por escolaridade x conversão à campanha')\n",
        "plt.xlabel('Quantidade de clientes')\n",
        "plt.ylabel('Escolaridade')\n",
        "plt.legend(title='Conversão à campanha')\n",
        "\n",
        "# visualização da plotagem\n",
        "plt.show()"
      ],
      "metadata": {
        "id": "aSwyYBsICzEn"
      },
      "execution_count": null,
      "outputs": []
    },
    {
      "cell_type": "markdown",
      "source": [
        "Quando relacionado à variável target 'y', também vemos que há certa proporcionalidade em relação ao número total por estado civil: vai de 84,99% do total (tertiary > universitários) a 91,37% do total (primary > primários, similar ao ensino fundamental no Brasil)"
      ],
      "metadata": {
        "id": "_YM1Dxv9C8eh"
      }
    },
    {
      "cell_type": "markdown",
      "source": [
        "#### Análise - inadimplência"
      ],
      "metadata": {
        "id": "GcM47VX2D-mK"
      }
    },
    {
      "cell_type": "code",
      "source": [
        "# ----- primeiro gráfico, sem relação com a variável target 'y'\n",
        "# área para plotar o gráfico\n",
        "plt.figure(figsize=(14,6))\n",
        "\n",
        "# seleção da variável e configuração da plotagem\n",
        "ax = df['default'].value_counts().sort_values(ascending=True).plot(kind='barh', color='#FFAE80')\n",
        "\n",
        "# adição de rótulo nos dados\n",
        "for container in ax.containers:\n",
        "    ax.bar_label(container, label_type='edge', padding=3, color='#212738')\n",
        "\n",
        "# configuração dos aspectos do gráfico\n",
        "ax.set_title('Quantidade de clientes por presença de inadimplência')\n",
        "ax.set_ylabel('Presença de inadimplência')\n",
        "ax.set_xlabel('Quantidade de clientes')\n",
        "\n",
        "# visualização da plotagem\n",
        "plt.show()"
      ],
      "metadata": {
        "id": "VZ1ZOkzQECYJ"
      },
      "execution_count": null,
      "outputs": []
    },
    {
      "cell_type": "markdown",
      "source": [
        "98,20% do dataset não apresenta qualquer inadimplência."
      ],
      "metadata": {
        "id": "FOAS3YWaEGHy"
      }
    },
    {
      "cell_type": "code",
      "source": [
        "# ----- segundo gráfico, relacionando com a variável target 'y'\n",
        "# área para plotar o gráfico\n",
        "fig, ax = plt.subplots(figsize=(16, 6))\n",
        "\n",
        "# agrupamento de dados por 'job' e 'y'\n",
        "contagem_job_y = df.groupby(['default', 'y']).size().unstack()\n",
        "\n",
        "# ordenação pela conversão predominante\n",
        "contagem_job_y = contagem_job_y.sort_values('no')\n",
        "\n",
        "# seleção do agrupamento e configuração da plotagem\n",
        "contagem_job_y.plot(kind='barh', color=['#F17300', '#3E7CB1'], ax=ax)\n",
        "\n",
        "# adição de rótulo nos dados e melhor ajuste\n",
        "for i, container in enumerate(ax.containers):\n",
        "    if i == 0:  # Primeira categoria (base)\n",
        "        ax.bar_label(container,\n",
        "                    label_type='center',\n",
        "                    color='#212738')\n",
        "    else:  # Segunda categoria (topo)\n",
        "        ax.bar_label(container,\n",
        "                    label_type='edge',\n",
        "                    color='#212738')\n",
        "\n",
        "# configuração dos aspectos do gráfico\n",
        "plt.title('Quantidade de clientes por presença de inadimplência x conversão à campanha')\n",
        "plt.xlabel('Quantidade de clientes')\n",
        "plt.ylabel('Presença de inadimplência')\n",
        "plt.legend(title='Conversão à campanha')\n",
        "\n",
        "# visualização da plotagem\n",
        "plt.show()"
      ],
      "metadata": {
        "id": "d1nHxcGKEFRQ"
      },
      "execution_count": null,
      "outputs": []
    },
    {
      "cell_type": "markdown",
      "source": [
        "Quando relacionado à variável target 'y', foi necessário usar colunas agrupadas em função da escala deixar a instância 'no' com pouca legibilidade. Nesse sentido, é observado que 88,20% dos adimplentes (no) não tiveram conversão à campanha; e como esperado, a maior parte dos inadimplentes não adere à conversão: 93,62% (yes)"
      ],
      "metadata": {
        "id": "yHAYlzu6EGq_"
      }
    },
    {
      "cell_type": "markdown",
      "source": [
        "#### Análise - financiamento habitacional"
      ],
      "metadata": {
        "id": "yd6XtpykHfHZ"
      }
    },
    {
      "cell_type": "code",
      "source": [
        "# ----- primeiro gráfico, sem relação com a variável target 'y'\n",
        "# área para plotar o gráfico\n",
        "plt.figure(figsize=(14,6))\n",
        "\n",
        "# seleção da variável e configuração da plotagem\n",
        "ax = df['housing'].value_counts().sort_values(ascending=True).plot(kind='barh', color='#FFAE80')\n",
        "\n",
        "# adição de rótulo nos dados\n",
        "for container in ax.containers:\n",
        "    ax.bar_label(container, label_type='edge', padding=3, color='#212738')\n",
        "\n",
        "# configuração dos aspectos do gráfico\n",
        "ax.set_title('Quantidade de clientes por presença de financiamento habitacional')\n",
        "ax.set_ylabel('Presença de financiamento habitacional')\n",
        "ax.set_xlabel('Quantidade de clientes')\n",
        "\n",
        "# visualização da plotagem\n",
        "plt.show()"
      ],
      "metadata": {
        "id": "sC9M3fkTHl1L"
      },
      "execution_count": null,
      "outputs": []
    },
    {
      "cell_type": "markdown",
      "source": [
        "Os clientes com financiamento habitacional representam a maior parte do dataset: 55,59%\n",
        "\n"
      ],
      "metadata": {
        "id": "AbOTH5C7HmL-"
      }
    },
    {
      "cell_type": "code",
      "source": [
        "# ----- segundo gráfico, relacionando com a variável target 'y'\n",
        "# área para plotar o gráfico\n",
        "fig, ax = plt.subplots(figsize=(16, 6))\n",
        "\n",
        "# agrupamento de dados por 'job' e 'y'\n",
        "contagem_job_y = df.groupby(['housing', 'y']).size().unstack()\n",
        "\n",
        "# ordenação pela conversão predominante\n",
        "contagem_job_y = contagem_job_y.sort_values('no')\n",
        "\n",
        "# seleção do agrupamento e configuração da plotagem\n",
        "contagem_job_y.plot(kind='barh', stacked=True, color=['#F17300', '#3E7CB1'], ax=ax)\n",
        "\n",
        "# adição de rótulo nos dados e melhor ajuste\n",
        "for i, container in enumerate(ax.containers):\n",
        "    if i == 0:  # Primeira categoria (base)\n",
        "        ax.bar_label(container,\n",
        "                    label_type='center',\n",
        "                    color='#212738')\n",
        "    else:  # Segunda categoria (topo)\n",
        "        ax.bar_label(container,\n",
        "                    label_type='edge',\n",
        "                    color='#212738')\n",
        "\n",
        "# configuração dos aspectos do gráfico\n",
        "plt.title('Quantidade de clientes por presença de financiamento habitacional x conversão à campanha')\n",
        "plt.xlabel('Quantidade de clientes')\n",
        "plt.ylabel('Presença de financiamento habitacional')\n",
        "plt.legend(title='Conversão à campanha')\n",
        "\n",
        "# visualização da plotagem\n",
        "plt.show()"
      ],
      "metadata": {
        "id": "iVa5URN0HllB"
      },
      "execution_count": null,
      "outputs": []
    },
    {
      "cell_type": "markdown",
      "source": [
        "Quando relacionado à variável target 'y', há discrepância mínima a ser observada: 92,30% dos clientes com financiamento habitacional não aderiram à conversão; esse percentual cai para 83,30% quando não há financiamento habitacional"
      ],
      "metadata": {
        "id": "Bm0XB7bEHmdY"
      }
    },
    {
      "cell_type": "markdown",
      "source": [
        "#### Análise - empréstimo pessoal"
      ],
      "metadata": {
        "id": "yeg-JlffJ-nW"
      }
    },
    {
      "cell_type": "code",
      "source": [
        "# ----- primeiro gráfico, sem relação com a variável target 'y'\n",
        "# área para plotar o gráfico\n",
        "plt.figure(figsize=(14,6))\n",
        "\n",
        "# seleção da variável e configuração da plotagem\n",
        "ax = df['loan'].value_counts().sort_values(ascending=True).plot(kind='barh', color='#FFAE80')\n",
        "\n",
        "# adição de rótulo nos dados\n",
        "for container in ax.containers:\n",
        "    ax.bar_label(container, label_type='edge', padding=3, color='#212738')\n",
        "\n",
        "# configuração dos aspectos do gráfico\n",
        "ax.set_title('Quantidade de clientes por presença de empréstimo pessoal')\n",
        "ax.set_ylabel('Presença de empréstimo pessoal')\n",
        "ax.set_xlabel('Quantidade de clientes')\n",
        "\n",
        "# visualização da plotagem\n",
        "plt.show()"
      ],
      "metadata": {
        "id": "chZn7ldXJ_4C"
      },
      "execution_count": null,
      "outputs": []
    },
    {
      "cell_type": "markdown",
      "source": [
        "Os clientes sem empréstimo pessoal representam a maior parte do dataset: 83,98%\n"
      ],
      "metadata": {
        "id": "27-E14m3J-e_"
      }
    },
    {
      "cell_type": "code",
      "source": [
        "# ----- segundo gráfico, relacionando com a variável target 'y'\n",
        "# área para plotar o gráfico\n",
        "fig, ax = plt.subplots(figsize=(16, 6))\n",
        "\n",
        "# agrupamento de dados por 'job' e 'y'\n",
        "contagem_job_y = df.groupby(['loan', 'y']).size().unstack()\n",
        "\n",
        "# ordenação pela conversão predominante\n",
        "contagem_job_y = contagem_job_y.sort_values('no')\n",
        "\n",
        "# seleção do agrupamento e configuração da plotagem\n",
        "contagem_job_y.plot(kind='barh', stacked=True, color=['#F17300', '#3E7CB1'], ax=ax)\n",
        "\n",
        "# adição de rótulo nos dados e melhor ajuste\n",
        "for i, container in enumerate(ax.containers):\n",
        "    if i == 0:  # Primeira categoria (base)\n",
        "        ax.bar_label(container,\n",
        "                    label_type='center',\n",
        "                    color='#212738')\n",
        "    else:  # Segunda categoria (topo)\n",
        "        ax.bar_label(container,\n",
        "                    label_type='edge',\n",
        "                    color='#212738')\n",
        "\n",
        "# configuração dos aspectos do gráfico\n",
        "plt.title('Quantidade de clientes por presença de empréstimo pessoal x conversão à campanha')\n",
        "plt.xlabel('Quantidade de clientes')\n",
        "plt.ylabel('Presença de empréstimo pessoal')\n",
        "plt.legend(title='Conversão à campanha')\n",
        "\n",
        "# visualização da plotagem\n",
        "plt.show()"
      ],
      "metadata": {
        "id": "V9DB7hL3J_Xg"
      },
      "execution_count": null,
      "outputs": []
    },
    {
      "cell_type": "markdown",
      "source": [
        "Quando relacionado à variável target 'y', o comportamento é semelhante ao observado nos clientes que possuem financiamento habitacional: 93,32% dos que têm empréstimo pessoal não aderem à conversão; esse percentual cai para 87,34% quando é verificado quem não tem empréstimo pessoal"
      ],
      "metadata": {
        "id": "S6oysyZ-J-PL"
      }
    },
    {
      "cell_type": "markdown",
      "source": [
        "#### Análise - tipo de contato"
      ],
      "metadata": {
        "id": "J5ay96k8O7V0"
      }
    },
    {
      "cell_type": "code",
      "source": [
        "# ----- primeiro gráfico, sem relação com a variável target 'y'\n",
        "# área para plotar o gráfico\n",
        "plt.figure(figsize=(14,6))\n",
        "\n",
        "# seleção da variável e configuração da plotagem\n",
        "ax = df['contact'].value_counts().sort_values(ascending=True).plot(kind='barh', color='#FFAE80')\n",
        "\n",
        "# adição de rótulo nos dados\n",
        "for container in ax.containers:\n",
        "    ax.bar_label(container, label_type='edge', padding=3, color='#212738')\n",
        "\n",
        "# configuração dos aspectos do gráfico\n",
        "ax.set_title('Quantidade de clientes por tipo de contato')\n",
        "ax.set_ylabel('Tipo de contato')\n",
        "ax.set_xlabel('Quantidade de clientes')\n",
        "\n",
        "# visualização da plotagem\n",
        "plt.show()"
      ],
      "metadata": {
        "id": "vQAt-gf4O8vl"
      },
      "execution_count": null,
      "outputs": []
    },
    {
      "cell_type": "markdown",
      "source": [
        "Nesse ponto da análise é encontrado o primeiro problema considerável do dataset: não é possível determinar o tipo de contato feito com 28,80% da base. Já a maior parte (64,77%) foi feita por celular."
      ],
      "metadata": {
        "id": "nT824lDWO755"
      }
    },
    {
      "cell_type": "code",
      "source": [
        "# ----- segundo gráfico, relacionando com a variável target 'y'\n",
        "# área para plotar o gráfico\n",
        "fig, ax = plt.subplots(figsize=(16, 6))\n",
        "\n",
        "# agrupamento de dados por 'job' e 'y'\n",
        "contagem_job_y = df.groupby(['contact', 'y']).size().unstack()\n",
        "\n",
        "# ordenação pela conversão predominante\n",
        "contagem_job_y = contagem_job_y.sort_values('no')\n",
        "\n",
        "# seleção do agrupamento e configuração da plotagem\n",
        "contagem_job_y.plot(kind='barh', stacked=True, color=['#F17300', '#3E7CB1'], ax=ax)\n",
        "\n",
        "# adição de rótulo nos dados e melhor ajuste\n",
        "for i, container in enumerate(ax.containers):\n",
        "    if i == 0:  # Primeira categoria (base)\n",
        "        ax.bar_label(container,\n",
        "                    label_type='center',\n",
        "                    color='#212738')\n",
        "    else:  # Segunda categoria (topo)\n",
        "        ax.bar_label(container,\n",
        "                    label_type='edge',\n",
        "                    color='#212738')\n",
        "\n",
        "# configuração dos aspectos do gráfico\n",
        "plt.title('Quantidade de clientes por tipo de contato x conversão à campanha')\n",
        "plt.xlabel('Quantidade de clientes')\n",
        "plt.ylabel('Tipo de contato')\n",
        "plt.legend(title='Conversão à campanha')\n",
        "\n",
        "# visualização da plotagem\n",
        "plt.show()"
      ],
      "metadata": {
        "id": "xMt7_NPbO9B0"
      },
      "execution_count": null,
      "outputs": []
    },
    {
      "cell_type": "markdown",
      "source": [
        "Quando relacionado à variável target 'y', como destacado na visualização anterior, a instância 'unknown' (desconhecido) traz um problema para a análise: não é possível afirmar como foi feito o contato para quem não aderiu à campanha nessa faixa (95,93% > maior proporção desse recorte). Essa proporção cai para 86,58% para quem foi contatado por telefone, e para 85,08% para quem foi contatado por celular."
      ],
      "metadata": {
        "id": "8Pmlb0UNO8Lk"
      }
    },
    {
      "cell_type": "markdown",
      "source": [
        "#### Análise - mês do último contato"
      ],
      "metadata": {
        "id": "Y4c4JF7cTcAp"
      }
    },
    {
      "cell_type": "code",
      "source": [
        "# ----- primeiro gráfico, sem relação com a variável target 'y'\n",
        "# área para plotar o gráfico\n",
        "plt.figure(figsize=(14,6))\n",
        "\n",
        "# seleção da variável e configuração da plotagem\n",
        "ax = df['month'].value_counts().sort_values(ascending=True).plot(kind='barh', color='#FFAE80')\n",
        "\n",
        "# adição de rótulo nos dados\n",
        "for container in ax.containers:\n",
        "    ax.bar_label(container, label_type='edge', padding=3, color='#212738')\n",
        "\n",
        "# configuração dos aspectos do gráfico\n",
        "ax.set_title('Quantidade de clientes por mês de último contato')\n",
        "ax.set_ylabel('Mês de último contato')\n",
        "ax.set_xlabel('Quantidade de clientes')\n",
        "\n",
        "# visualização da plotagem\n",
        "plt.show()"
      ],
      "metadata": {
        "id": "85Gz0eMZTcbd"
      },
      "execution_count": null,
      "outputs": []
    },
    {
      "cell_type": "markdown",
      "source": [
        "Os contatos parecem estar bem divididos quando separamos na metade: 58,76% foram feitos no 1º semestre, sendo 30,44% do total e 51,81% do semestre somente em maio."
      ],
      "metadata": {
        "id": "UZAf2JI_Tb3G"
      }
    },
    {
      "cell_type": "code",
      "source": [
        "# ----- segundo gráfico, relacionando com a variável target 'y'\n",
        "# área para plotar o gráfico\n",
        "fig, ax = plt.subplots(figsize=(16, 6))\n",
        "\n",
        "# agrupamento de dados por 'job' e 'y'\n",
        "contagem_job_y = df.groupby(['month', 'y']).size().unstack()\n",
        "\n",
        "# ordenação pela conversão predominante\n",
        "contagem_job_y = contagem_job_y.sort_values('no')\n",
        "\n",
        "# seleção do agrupamento e configuração da plotagem\n",
        "contagem_job_y.plot(kind='barh', stacked=True, color=['#F17300', '#3E7CB1'], ax=ax)\n",
        "\n",
        "# adição de rótulo nos dados e melhor ajuste\n",
        "for i, container in enumerate(ax.containers):\n",
        "    if i == 0:  # Primeira categoria (base)\n",
        "        ax.bar_label(container,\n",
        "                    label_type='center',\n",
        "                    color='#212738')\n",
        "    else:  # Segunda categoria (topo)\n",
        "        ax.bar_label(container,\n",
        "                    label_type='edge',\n",
        "                    color='#212738')\n",
        "\n",
        "# configuração dos aspectos do gráfico\n",
        "plt.title('Quantidade de clientes por mês de último contato x conversão à campanha')\n",
        "plt.xlabel('Quantidade de clientes')\n",
        "plt.ylabel('Mês de último contato')\n",
        "plt.legend(title='Conversão à campanha')\n",
        "\n",
        "# visualização da plotagem\n",
        "plt.show()"
      ],
      "metadata": {
        "id": "fggovWFZTcsG"
      },
      "execution_count": null,
      "outputs": []
    },
    {
      "cell_type": "markdown",
      "source": [
        "Quando relacionado à variável target 'y', é notada uma diferença grande das proporções dos clientes que não aderiram à conversão de acordo com o mês: ela vai de 48,01% em março a 93,28% em maio. As menores proporções (até < 60%) compreendem, além de março, os meses de dezembro (53,27%), setembro (53,54%) e outubro (56,23%); os percentuais já saltam para > 80% nos demais meses, indicando quais são os melhores períodos para se obter conversão positiva à campanha."
      ],
      "metadata": {
        "id": "BUuWLJosTbll"
      }
    },
    {
      "cell_type": "markdown",
      "source": [
        "#### Análise - resultado da última campanha"
      ],
      "metadata": {
        "id": "iyeX_6tfZKRC"
      }
    },
    {
      "cell_type": "code",
      "source": [
        "# ----- primeiro gráfico, sem relação com a variável target 'y'\n",
        "# área para plotar o gráfico\n",
        "plt.figure(figsize=(14,6))\n",
        "\n",
        "# seleção da variável e configuração da plotagem\n",
        "ax = df['poutcome'].value_counts().sort_values(ascending=True).plot(kind='barh', color='#FFAE80')\n",
        "\n",
        "# adição de rótulo nos dados\n",
        "for container in ax.containers:\n",
        "    ax.bar_label(container, label_type='edge', padding=3, color='#212738')\n",
        "\n",
        "# configuração dos aspectos do gráfico\n",
        "ax.set_title('Quantidade de clientes por resultado da última campanha')\n",
        "ax.set_ylabel('Resultado da última campanha')\n",
        "ax.set_xlabel('Quantidade de clientes')\n",
        "\n",
        "# visualização da plotagem\n",
        "plt.show()"
      ],
      "metadata": {
        "id": "WqiRbXBrZM7S"
      },
      "execution_count": null,
      "outputs": []
    },
    {
      "cell_type": "markdown",
      "source": [
        "Assim como na análise do tipo de contato, nesse recorte a informação desconhecida (unknown) apresenta um problema no sentido de comparar a eficiência dos esforços: 81,75% dos clientes contatados estão sem a informação."
      ],
      "metadata": {
        "id": "SnYX2lNtZMD2"
      }
    },
    {
      "cell_type": "code",
      "source": [
        "# ----- segundo gráfico, relacionando com a variável target 'y'\n",
        "# área para plotar o gráfico\n",
        "fig, ax = plt.subplots(figsize=(16, 6))\n",
        "\n",
        "# agrupamento de dados por 'job' e 'y'\n",
        "contagem_job_y = df.groupby(['poutcome', 'y']).size().unstack()\n",
        "\n",
        "# ordenação pela conversão predominante\n",
        "contagem_job_y = contagem_job_y.sort_values('no')\n",
        "\n",
        "# seleção do agrupamento e configuração da plotagem\n",
        "contagem_job_y.plot(kind='barh', stacked=True, color=['#F17300', '#3E7CB1'], ax=ax)\n",
        "\n",
        "# adição de rótulo nos dados e melhor ajuste\n",
        "for i, container in enumerate(ax.containers):\n",
        "    if i == 0:  # Primeira categoria (base)\n",
        "        ax.bar_label(container,\n",
        "                    label_type='center',\n",
        "                    color='#212738')\n",
        "    else:  # Segunda categoria (topo)\n",
        "        ax.bar_label(container,\n",
        "                    label_type='edge',\n",
        "                    color='#212738')\n",
        "\n",
        "# configuração dos aspectos do gráfico\n",
        "plt.title('Quantidade de clientes por resultado da última campanha x conversão à campanha')\n",
        "plt.xlabel('Quantidade de clientes')\n",
        "plt.ylabel('Resultado da última campanha')\n",
        "plt.legend(title='Conversão à campanha')\n",
        "\n",
        "# visualização da plotagem\n",
        "plt.show()"
      ],
      "metadata": {
        "id": "i0P1jg6wZNPu"
      },
      "execution_count": null,
      "outputs": []
    },
    {
      "cell_type": "markdown",
      "source": [
        "O desconhecimento da informação na maior parte dos clientes contatados é um problema ainda maior quando se percebe que 64,73% dos clientes com conversão positiva na última campanha, também tiveram conversão positiva na campanha em análise. Além disso, a informação 'other' não agrega valor à análise pois não há descrição do que ela representa."
      ],
      "metadata": {
        "id": "zbV-IAh-ZMfN"
      }
    },
    {
      "cell_type": "markdown",
      "source": [
        "#### Análise - resultado da campanha (variável target 'y')"
      ],
      "metadata": {
        "id": "TS1gZbiBJGQ7"
      }
    },
    {
      "cell_type": "code",
      "source": [
        "# área para plotar o gráfico\n",
        "plt.figure(figsize=(14,6))\n",
        "\n",
        "# seleção da variável e configuração da plotagem\n",
        "ax = df['y'].value_counts().sort_values(ascending=False).plot(kind='bar', color='#FFAE80')\n",
        "\n",
        "# adição de rótulo nos dados\n",
        "for container in ax.containers:\n",
        "    ax.bar_label(container, label_type='edge', padding=3, color='#212738')\n",
        "\n",
        "# configuração dos aspectos do gráfico\n",
        "ax.set_title('Quantidade de clientes por resultado da campanha')\n",
        "ax.set_ylabel('Clientes')\n",
        "ax.set_xlabel('Resultado da campanha')\n",
        "\n",
        "# visualização da plotagem\n",
        "plt.show()"
      ],
      "metadata": {
        "id": "Y1AbDAjCJG0d"
      },
      "execution_count": null,
      "outputs": []
    },
    {
      "cell_type": "markdown",
      "source": [
        "Aqui fica evidenciada a hipótese formulada com base em \"percepção\" no início desse estudo: 11,70% da campanha teve conversão positiva"
      ],
      "metadata": {
        "id": "mMW4VlDjJHN5"
      }
    },
    {
      "cell_type": "markdown",
      "source": [
        "### Variáveis quantitativas\n",
        "\n",
        "Usando a mesma premissa na seção de análise das variáveis qualitativas, é importante entender como as variáveis quantitativas estão distribuídas para relacionar seu padrão com a conversão da campanha."
      ],
      "metadata": {
        "id": "PII7Mh3YwREz"
      }
    },
    {
      "cell_type": "markdown",
      "source": [
        "#### Média\n",
        "\n",
        "A primeira medida de interesse que pode ser explorada nesse dataset para alguns insights é a média."
      ],
      "metadata": {
        "id": "BodIFWbDLxPM"
      }
    },
    {
      "cell_type": "code",
      "source": [
        "# média das dimensões numéricas\n",
        "print(\"\\nDesvio padrão:\")\n",
        "df.describe().loc['mean']"
      ],
      "metadata": {
        "id": "J_aCvnYAND2q"
      },
      "execution_count": null,
      "outputs": []
    },
    {
      "cell_type": "markdown",
      "source": [
        "Em média, o dataset concentra informações em clientes na fase adulta (~41 anos), com renda anual média 1,57x superior ao salário mínimo de portugal (780 € > cerca de R$ 8.700,00), sendo necessários 3 contatos geralmente feitos no meio do mês e durando cerca de 4 minutos; esses clientes ficaram cerca de 40 dias sem contato desde a última campanha, que foi feito somente 1 contato."
      ],
      "metadata": {
        "id": "RIZ6L_qRbu5c"
      }
    },
    {
      "cell_type": "markdown",
      "source": [
        "##### Média - relação com variável target (y)\n",
        "\n",
        "O gráfico a seguir relaciona a média das variáveis numéricas com a conversão à campanha, trazendo alguns primeiros insights."
      ],
      "metadata": {
        "id": "JPK9llB1s0l5"
      }
    },
    {
      "cell_type": "code",
      "source": [
        "# listagem das variáveis numéricas para o gráfico\n",
        "variaveis_numericas = ['age', 'day', 'duration', 'campaign', 'pdays',\n",
        "                       'previous', 'balance']\n",
        "\n",
        "# cálculo das médias em função da variável target 'y'\n",
        "medias_por_y = df.groupby('y')[variaveis_numericas].mean().reset_index()\n",
        "\n",
        "# área para plotar o gráfico\n",
        "plt.figure(figsize=(10, 6))\n",
        "\n",
        "# pivotagem das médias calculadas para preparar as variáveis para plotar no gráfico\n",
        "medias_mix = medias_por_y.melt(id_vars='y', var_name='Variável',\n",
        "                               value_name='Média')\n",
        "\n",
        "# criação do gráfico de barras\n",
        "barplot = sns.barplot(data=medias_mix, x='Variável', y='Média', hue='y',\n",
        "                      palette={'yes': '#3E7CB1', 'no': '#F17300'})\n",
        "\n",
        "# configuração dos aspectos do gráfico\n",
        "plt.title('Médias das variáveis numéricas por conversão à campanha')\n",
        "plt.xlabel('Variável')\n",
        "plt.ylabel('Média')\n",
        "plt.legend(title='Conversão à campanha')\n",
        "plt.tight_layout()\n",
        "\n",
        "# adição de valores e configurando parâmetros visuais do gráfico\n",
        "for p in barplot.patches:\n",
        "    barplot.annotate(\n",
        "        f\"{p.get_height():.1f}\",\n",
        "        (p.get_x() + p.get_width() / 2., p.get_height()),\n",
        "        ha='center',\n",
        "        va='center',\n",
        "        xytext=(0, 8),\n",
        "        textcoords='offset points'\n",
        "    )\n",
        "\n",
        "# visualização da plotagem\n",
        "plt.show()"
      ],
      "metadata": {
        "id": "DH0TgIf5RHv9"
      },
      "execution_count": null,
      "outputs": []
    },
    {
      "cell_type": "markdown",
      "source": [
        "##### Média - principais insights\n",
        "\n",
        "Olhando para as médias, nota-se que os clientes que tiveram conversão à campanha (y = yes):\n",
        "- Ficaram 2,43x mais tempo em ligação do que os clientes que não tiveram conversão;\n",
        "- Ficaram 1,89x mais dias sem contato (desde a última campanha) do que os clientes que não tiveram conversão;\n",
        "- Possuem renda anual média 1,38x maior do que os clientes que não tiveram conversão;"
      ],
      "metadata": {
        "id": "V2eaV3j4oUkt"
      }
    },
    {
      "cell_type": "markdown",
      "source": [
        "#### Desvio padrão\n",
        "\n",
        "A segunda medida de interesse que pode ser explorada nesse dataset para alguns insights é o desvio padrão, visando complementar o que foi explorado na seção da Média."
      ],
      "metadata": {
        "id": "LNvuJaVkxnhA"
      }
    },
    {
      "cell_type": "code",
      "source": [
        "# desvio padrão das dimensões numéricas\n",
        "print(\"\\nDesvio padrão:\")\n",
        "df.describe().loc['std']"
      ],
      "metadata": {
        "id": "65NxGIchsorn"
      },
      "execution_count": null,
      "outputs": []
    },
    {
      "cell_type": "markdown",
      "source": [
        "Quando se valida o desvio padrão, é verificado que o dataset apresenta um público muito variado: as variações mais significativas giram em torno da renda anual média (chegando a valores negativos, indicando desde clientes com problemas financeiros a clientes em situação relativamente confortável), duração dos contatos (indo de contato não realizado ao dobro da média), contatos realizados (de nenhum contato realizado ao dobro da média) e dias desde o último contato (clientes sem nenhum contato e clientes com relacionamento mais próximo)."
      ],
      "metadata": {
        "id": "CBeAZbM0x4vZ"
      }
    },
    {
      "cell_type": "markdown",
      "source": [
        "##### Desvio padrão - relação com variável target (y)\n",
        "\n",
        "O gráfico a seguir relaciona o desvio padrão das variáveis numéricas com a conversão à campanha, trazendo mais alguns insights."
      ],
      "metadata": {
        "id": "XpBpCUqkuInu"
      }
    },
    {
      "cell_type": "code",
      "source": [
        "# listagem das dimensões numéricas para o gráfico\n",
        "dimensoes_numericas = df.select_dtypes(include=['int64', 'float64']).columns\n",
        "\n",
        "# cálculo das médias em função da variável target 'y'\n",
        "desvpad_por_y = df.groupby('y')[dimensoes_numericas].std().reset_index()\n",
        "\n",
        "# área para plotar o gráfico\n",
        "plt.figure(figsize=(10, 6))\n",
        "\n",
        "# pivotagem das médias calculadas para preparar as variáveis para plotar no gráfico\n",
        "desvpad_mix = desvpad_por_y.melt(id_vars='y', var_name='Variável', value_name='Desvio padrão')\n",
        "\n",
        "# criação do gráfico de barras\n",
        "barplot = sns.barplot(\n",
        "    data=desvpad_mix,\n",
        "    x='Variável',\n",
        "    y='Desvio padrão',\n",
        "    hue='y',\n",
        "    palette={'yes': '#3E7CB1', 'no': '#F17300'}\n",
        ")\n",
        "\n",
        "# configuração dos aspectos do gráfico\n",
        "plt.title('Desvio padrão das variáveis numéricas por conversão à campanha')\n",
        "plt.xlabel('Variável')\n",
        "plt.ylabel('Desvio padrão')\n",
        "plt.legend(title='Conversão à campanha')\n",
        "plt.tight_layout()\n",
        "\n",
        "# adição de valores e configurando parâmetros visuais do gráfico\n",
        "for p in barplot.patches:\n",
        "    barplot.annotate(\n",
        "        f\"{p.get_height():.1f}\",\n",
        "        (p.get_x() + p.get_width() / 2., p.get_height()),\n",
        "        ha='center',\n",
        "        va='center',\n",
        "        xytext=(0, 8),\n",
        "        textcoords='offset points'\n",
        "    )\n",
        "\n",
        "# plotando o gráfico\n",
        "plt.show()"
      ],
      "metadata": {
        "id": "4WRamsfJuJCF"
      },
      "execution_count": null,
      "outputs": []
    },
    {
      "cell_type": "markdown",
      "source": [
        "##### Desvio padrão - principais insights\n",
        "\n",
        "Olhando para o desvio padrão, nota-se que os clientes que tiveram conversão à campanha (y = yes):\n",
        "- Se distanciam 1,32x a média de idade do que os clientes que não tiveram conversão;\n",
        "- Se distanciam 1,89x a média de duração da ligação do que os clientes que não tiveram conversão;\n",
        "- Se distanciam 1,22x a média de dias sem contato (desde a última campanha) do que os clientes que não tiveram conversão;\n",
        "- Se distanciam 1,18x a renda anual média do que os clientes que não tiveram conversão;"
      ],
      "metadata": {
        "id": "e5rreNoJx9tY"
      }
    },
    {
      "cell_type": "markdown",
      "source": [
        "#### Matriz de correlação\n",
        "\n",
        "Outra visualização interessante, considerando que existem muitas dimensões numéricas, é entender como elas se relacionam através da matriz de correlação."
      ],
      "metadata": {
        "id": "zxWMQGQkeW5v"
      }
    },
    {
      "cell_type": "code",
      "source": [
        "# listagem das dimensões numéricas para o gráfico\n",
        "dimensoes_numericas = df.select_dtypes(include=['int64', 'float64']).columns\n",
        "\n",
        "# criação de um dataframe apenas com as dimensões numéricas\n",
        "df_numericas = df[dimensoes_numericas]\n",
        "\n",
        "# cálculo da matriz de correlação\n",
        "matriz_corr = df_numericas.corr()\n",
        "\n",
        "# Plotar a matriz de correlação com Seaborn\n",
        "plt.figure(figsize=(12, 10))\n",
        "sns.heatmap(matriz_corr, annot=True, cmap='coolwarm', center=0, fmt=\".2f\",\n",
        "            linewidths=.5, cbar_kws={\"shrink\": .8})\n",
        "plt.title('Matriz de Correlação das Dimensões Numéricas - Bank Marketing', pad=10)\n",
        "plt.xticks(rotation=45, ha='right')\n",
        "plt.yticks(rotation=0)\n",
        "plt.tight_layout()\n",
        "plt.show()"
      ],
      "metadata": {
        "id": "3GmPAUN6efch"
      },
      "execution_count": null,
      "outputs": []
    },
    {
      "cell_type": "markdown",
      "source": [
        "A matriz de correlação demonstra que as variáveis possuem seus próprios comportamentos isolados, sem influência entre si. A única exceção demonstra uma pequena correlação entre pdays e previous, o que pode ser explicado pela interpretação do grande número de contatos não realizados antes da campanha atual."
      ],
      "metadata": {
        "id": "IAV7iBr4oBk3"
      }
    },
    {
      "cell_type": "markdown",
      "source": [
        "#### Distribuição das variáveis\n",
        "\n",
        "Para se ter melhor ideia de como os dados estão dispersos no dataset, é importante explorar tal abordagem através de visualizações de distribuição das variáveis, como histogramas e boxplots."
      ],
      "metadata": {
        "id": "rHRDDV6avREL"
      }
    },
    {
      "cell_type": "markdown",
      "source": [
        "##### Análise - idade dos clientes"
      ],
      "metadata": {
        "id": "0rflcXAU88G2"
      }
    },
    {
      "cell_type": "code",
      "source": [
        "# área para plotar o gráfico\n",
        "plt.figure(figsize=(14, 6))\n",
        "\n",
        "# seleção da variável e configuração da plotagem\n",
        "n, bins, patches = plt.hist(df['age'], bins=20, edgecolor='#F2F4F3', color='#FFAE80')\n",
        "\n",
        "# adição de rótulos nos dados\n",
        "for i in range(len(n)):\n",
        "    if n[i] > 0:\n",
        "        plt.text(bins[i] + (bins[i+1] - bins[i])/2, n[i],\n",
        "                 str(int(n[i])),\n",
        "                 ha='center',\n",
        "                 va='bottom')\n",
        "\n",
        "# configuração dos aspectos do gráfico\n",
        "plt.title('Distribuição da idade dos clientes')\n",
        "plt.xlabel('Idade dos clientes')\n",
        "plt.ylabel('Frequência')\n",
        "\n",
        "# visualização da plotagem\n",
        "plt.show()"
      ],
      "metadata": {
        "id": "yNkGDU3942z3"
      },
      "execution_count": null,
      "outputs": []
    },
    {
      "cell_type": "code",
      "source": [
        "# primeiro boxplot, sem relação com variável target 'y'\n",
        "# área para plotar o gráfico\n",
        "plt.figure(figsize=(8, 4))\n",
        "\n",
        "# seleção da variável e configuração da plotagem\n",
        "sns.boxplot(data=df['age'], color='#212738', width=0.6)\n",
        "\n",
        "# criação de variáveis para destacar as estatísticas mais importantes\n",
        "mediana_idade = df['age'].median()\n",
        "media_idade = df['age'].mean()\n",
        "q1_idade = df['age'].quantile(0.25)\n",
        "q3_idade = df['age'].quantile(0.75)\n",
        "\n",
        "# configuração das estatísticas mais importantes\n",
        "plt.axhline(mediana_idade, color='#F17300', linestyle='-.',\n",
        "            linewidth=1.2,label=f'Mediana: {mediana_idade:.0f} anos')\n",
        "plt.axhline(media_idade, color='#86B0D5', linestyle='--', linewidth=1.2,\n",
        "            label=f'Média: {media_idade:.1f} anos')\n",
        "plt.axhline(q1_idade, linestyle='none', label=f'1º Quartil: {q1_idade:.0f} anos')\n",
        "plt.axhline(q3_idade, linestyle='none', label=f'3º Quartil: {q3_idade:.0f} anos')\n",
        "plt.legend()\n",
        "\n",
        "# configuração dos aspectos do gráfico\n",
        "plt.title('Distribuição da idade dos clientes')\n",
        "plt.ylabel('Idade dos clientes')\n",
        "plt.rcParams['grid.color'] = '#DEE3E0'\n",
        "\n",
        "# visualização da plotagem\n",
        "plt.show()"
      ],
      "metadata": {
        "id": "rM-Yx2NX8n6C"
      },
      "execution_count": null,
      "outputs": []
    },
    {
      "cell_type": "code",
      "source": [
        "# conjunto de 2 boxplots, separando por relação com a variável target 'y'\n",
        "# área para plotar o gráfico\n",
        "plt.figure(figsize=(12, 6))\n",
        "\n",
        "# boxplot para y = 'no'\n",
        "plt.subplot(1, 2, 1)\n",
        "\n",
        "# seleção da variável e configuração da plotagem\n",
        "sns.boxplot(data=df[df['y'] == 'no']['age'], color='#86B0D5', width=0.6)\n",
        "\n",
        "# criação de variáveis para destacar as estatísticas mais importantes\n",
        "idade_no = df[df['y'] == 'no']['age']\n",
        "q1_no = idade_no.quantile(0.25)\n",
        "q3_no = idade_no.quantile(0.75)\n",
        "\n",
        "# configuração das estatísticas mais importantes\n",
        "plt.axhline(idade_no.median(), color='#F17300', linestyle='-.', linewidth=1.2,\n",
        "            label=f'Mediana: {idade_no.median():.0f} anos')\n",
        "plt.axhline(idade_no.mean(), color='#212738', linestyle='--', linewidth=1.2,\n",
        "            label=f'Média: {idade_no.mean():.1f} anos')\n",
        "plt.axhline(q1_no, linestyle='none', label=f'1º Quartil: {q1_no:.0f} anos')\n",
        "plt.axhline(q3_no, linestyle='none', label=f'3º Quartil: {q3_no:.0f} anos')\n",
        "plt.legend()\n",
        "\n",
        "# configuração dos aspectos do gráfico\n",
        "plt.title('Distribuição de idade por conversão NEGATIVA')\n",
        "plt.ylabel('Idade')\n",
        "plt.xlabel('Clientes com conversão NEGATIVA')\n",
        "plt.rcParams['grid.color'] = '#DEE3E0'\n",
        "\n",
        "### -------------------\n",
        "\n",
        "# boxplot para y = 'yes'\n",
        "plt.subplot(1, 2, 2)\n",
        "\n",
        "# seleção da variável e configuração da plotagem\n",
        "sns.boxplot(data=df[df['y'] == 'yes']['age'], color='#4CB963', width=0.6)\n",
        "\n",
        "# criação de variáveis para destacar as estatísticas mais importantes\n",
        "idade_yes = df[df['y'] == 'yes']['age']\n",
        "q1_yes = idade_yes.quantile(0.25)\n",
        "q3_yes = idade_yes.quantile(0.75)\n",
        "\n",
        "# Linhas e legendas\n",
        "plt.axhline(idade_yes.median(), color='#F17300', linestyle='-.', linewidth=1.2,\n",
        "            label=f'Mediana: {idade_yes.median():.0f} anos')\n",
        "plt.axhline(idade_yes.mean(), color='#212738', linestyle='--', linewidth=1.2,\n",
        "            label=f'Média: {idade_yes.mean():.1f} anos')\n",
        "plt.axhline(q1_yes, linestyle='none', label=f'1º Quartil: {q1_yes:.0f} anos')\n",
        "plt.axhline(q3_yes, linestyle='none', label=f'3º Quartil: {q3_yes:.0f} anos')\n",
        "plt.legend()\n",
        "\n",
        "# configuração dos aspectos do gráfico\n",
        "plt.title('Distribuição de idade por conversão POSITIVA')\n",
        "plt.ylabel('Idade')\n",
        "plt.xlabel('Clientes com conversão POSITIVA')\n",
        "plt.rcParams['grid.color'] = '#DEE3E0'\n",
        "\n",
        "# ajuste de layout e visualização da plotagem\n",
        "plt.tight_layout()\n",
        "plt.show()"
      ],
      "metadata": {
        "id": "C5h8XHzk3eDO"
      },
      "execution_count": null,
      "outputs": []
    },
    {
      "cell_type": "markdown",
      "source": [
        "- A distribuição da idade dos clientes se mostra Assimétrica Positiva, unimodal, concentrada nas faixas 30-50 anos e demonstrando a demografia-alvo do banco.\n",
        "- Com mediana e média muito próximas, a distribuição por idade se mostra balanceada, com 50% dos clientes possuindo idade entre 33 e 48 anos e poucos outliers distorcendo a média de forma quase nula.\n",
        "- Ao separar a análise por conversão à campanha, os números possuem pouca variação"
      ],
      "metadata": {
        "id": "Sz9SjWy6La9R"
      }
    },
    {
      "cell_type": "markdown",
      "source": [
        "##### Análise - renda anual média"
      ],
      "metadata": {
        "id": "S7kjmpSqTf8X"
      }
    },
    {
      "cell_type": "code",
      "source": [
        "# área para plotar o gráfico\n",
        "plt.figure(figsize=(14, 6))\n",
        "\n",
        "# seleção da variável e configuração da plotagem\n",
        "n, bins, patches = plt.hist(df['balance'], bins=50, edgecolor='#F2F4F3',\n",
        "                            color='#FFAE80')\n",
        "\n",
        "# adição de rótulos nos dados\n",
        "for i in range(len(n)):\n",
        "    if n[i] > 0:\n",
        "        plt.text(bins[i] + (bins[i+1] - bins[i])/2, n[i],\n",
        "                 str(int(n[i])),\n",
        "                 ha='center',\n",
        "                 va='bottom')\n",
        "\n",
        "# configuração dos aspectos do gráfico\n",
        "plt.title('Distribuição da renda anual média dos clientes')\n",
        "plt.xlabel('Renda anual média')\n",
        "plt.ylabel('Frequência')\n",
        "\n",
        "# visualização da plotagem\n",
        "plt.show()"
      ],
      "metadata": {
        "id": "VZKX5a93ThOY"
      },
      "execution_count": null,
      "outputs": []
    },
    {
      "cell_type": "code",
      "source": [
        "# área para plotar o gráfico\n",
        "plt.figure(figsize=(8, 6))\n",
        "\n",
        "# seleção da variável e configuração da plotagem\n",
        "sns.boxplot(data=df['balance'], color='#212738', width=0.6)\n",
        "\n",
        "# criação de variáveis para destacar as estatísticas mais importantes\n",
        "mediana_renda = df['balance'].median()\n",
        "media_renda = df['balance'].mean()\n",
        "q1_renda = df['balance'].quantile(0.25)\n",
        "q3_renda = df['balance'].quantile(0.75)\n",
        "\n",
        "# variável de referência para ajuste de proporção do eixo y\n",
        "iqr = q3_renda - q1_renda\n",
        "\n",
        "# configuração das estatísticas mais importantes e ajuste de escala no eixo y\n",
        "## escala do eixo y foi ajustada para melhor legibilidade em função de muitos outliers\n",
        "plt.axhline(mediana_renda, color='#F17300', linestyle='-.', linewidth=1.2, label=f'Mediana: {mediana_renda:.2f} €')\n",
        "plt.axhline(media_renda, color='#86B0D5', linestyle='--', linewidth=1.2, label=f'Média: {media_renda:.2f} €')\n",
        "plt.axhline(q1_renda, linestyle='none', label=f'1º Quartil: {q1_renda:.2f} €')\n",
        "plt.axhline(q3_renda, linestyle='none', label=f'3º Quartil: {q3_renda:.2f} €')\n",
        "plt.ylim([q1_renda - 3*iqr, q3_renda + 3*iqr])\n",
        "plt.legend()\n",
        "\n",
        "# configuração dos aspectos do gráfico\n",
        "plt.title('Distribuição da renda anual média')\n",
        "plt.ylabel('Renda anual média dos clientes')\n",
        "plt.rcParams['grid.color'] = '#DEE3E0'\n",
        "\n",
        "# visualização da plotagem\n",
        "plt.show()"
      ],
      "metadata": {
        "id": "b_zBIDtPTg2g"
      },
      "execution_count": null,
      "outputs": []
    },
    {
      "cell_type": "code",
      "source": [
        "print(df['balance'].sort_values(ascending=True).head(28267))"
      ],
      "metadata": {
        "id": "-7JgMG_PctcW"
      },
      "execution_count": null,
      "outputs": []
    },
    {
      "cell_type": "markdown",
      "source": [
        "- A distribuição da renda anual média dos clientes se mostra Assimétrica Positiva com cauda longa a direita, unimodal, com 62,55% das suas instâncias em até 787 € (partindo de -8.019 €).\n",
        "- Com mediana e média muito distantes, a distribuição por renda anual média se mostra muito desbalanceada, com 50% dos clientes com renda anual média entre 72 € e 1428 €. Mesmo que com poucos outliers em quantidade (proporcionalmente ao total), os valores desses outliers distorcem significativamente a média."
      ],
      "metadata": {
        "id": "TH0uVqvETfeV"
      }
    },
    {
      "cell_type": "markdown",
      "source": [
        "##### Análise - dia do mês do último contato"
      ],
      "metadata": {
        "id": "YxXR2N-1fVHS"
      }
    },
    {
      "cell_type": "code",
      "source": [
        "# área para plotar o gráfico\n",
        "plt.figure(figsize=(16, 6))\n",
        "\n",
        "# seleção da variável e configuração da plotagem\n",
        "n, bins, patches = plt.hist(df['day'], bins=30, edgecolor='#F2F4F3',\n",
        "                            color='#FFAE80')\n",
        "\n",
        "# adição de rótulos nos dados\n",
        "for i in range(len(n)):\n",
        "    if n[i] > 0:\n",
        "        plt.text(bins[i] + (bins[i+1] - bins[i])/2, n[i],\n",
        "                 str(int(n[i])),\n",
        "                 ha='center',\n",
        "                 va='bottom')\n",
        "\n",
        "# configuração dos aspectos do gráfico\n",
        "plt.title('Distribuição do último dia do mês de contato com o cliente')\n",
        "plt.xlabel('Último dia do mês de contato')\n",
        "plt.ylabel('Frequência')\n",
        "\n",
        "# visualização da plotagem\n",
        "plt.show()"
      ],
      "metadata": {
        "id": "uGgzRnDxfWhO"
      },
      "execution_count": null,
      "outputs": []
    },
    {
      "cell_type": "code",
      "source": [
        "# área para plotar o gráfico\n",
        "plt.figure(figsize=(8, 6))\n",
        "\n",
        "# seleção da variável e configuração da plotagem\n",
        "sns.boxplot(data=df['day'], color='#212738', width=0.6)\n",
        "\n",
        "# criação de variáveis para destacar as estatísticas mais importantes\n",
        "mediana_dia = df['day'].median()\n",
        "media_dia = df['day'].mean()\n",
        "q1_dia = df['day'].quantile(0.25)\n",
        "q3_dia = df['day'].quantile(0.75)\n",
        "\n",
        "# configuração das estatísticas mais importantes\n",
        "plt.axhline(mediana_dia, color='#F17300', linestyle='-.', linewidth=1.2, label=f'Mediana: {mediana_dia:.0f} dias')\n",
        "plt.axhline(media_dia, color='#86B0D5', linestyle='--', linewidth=1.2, label=f'Média: {media_dia:.0f} dias')\n",
        "plt.axhline(q1_dia, linestyle='none', label=f'1º Quartil: {q1_dia:.0f} dias')\n",
        "plt.axhline(q3_dia, linestyle='none', label=f'3º Quartil: {q3_dia:.0f} dias')\n",
        "plt.legend()\n",
        "\n",
        "# configuração dos aspectos do gráfico\n",
        "plt.title('Distribuição do último dia do mês de contato com o cliente')\n",
        "plt.ylabel('Último dia do mês de contato com o cliente')\n",
        "plt.rcParams['grid.color'] = '#DEE3E0'\n",
        "\n",
        "# visualização da plotagem\n",
        "plt.show()"
      ],
      "metadata": {
        "id": "LOvuUKGHfWxV"
      },
      "execution_count": null,
      "outputs": []
    },
    {
      "cell_type": "markdown",
      "source": [
        "- A distribuição do último dia do mês de contato com o cliente se mostra Simétrica, unimodal, bem dispersa (com poucos contatos no início do mês e próximo aos dias 10 e 25)\n",
        "- Com mediana e média iguais, a distribuição por idade se mostra balanceada, com 50% dos dias de contato entre os dias 8 e 21. Não existem outliers."
      ],
      "metadata": {
        "id": "gNBWWcS1fXHI"
      }
    },
    {
      "cell_type": "markdown",
      "source": [
        "##### Análise - duração em segundos do último contato"
      ],
      "metadata": {
        "id": "1UzgMdYYjgU3"
      }
    },
    {
      "cell_type": "code",
      "source": [
        "# área para plotar o gráfico\n",
        "plt.figure(figsize=(16, 6))\n",
        "\n",
        "# seleção da variável e configuração da plotagem\n",
        "n, bins, patches = plt.hist(df['duration'], bins=10, edgecolor='#F2F4F3',\n",
        "                            color='#FFAE80')\n",
        "\n",
        "# adição de rótulos nos dados\n",
        "for i in range(len(n)):\n",
        "    if n[i] > 0:\n",
        "        plt.text(bins[i] + (bins[i+1] - bins[i])/2, n[i],\n",
        "                 str(int(n[i])),\n",
        "                 ha='center',\n",
        "                 va='bottom')\n",
        "\n",
        "# configuração dos aspectos do gráfico\n",
        "plt.title('Distribuição da duração do último contato com o cliente (em segundos)')\n",
        "plt.xlabel('Duração do último contato com o cliente (em segundos)')\n",
        "plt.ylabel('Frequência')\n",
        "\n",
        "# visualização da plotagem\n",
        "plt.show()"
      ],
      "metadata": {
        "id": "jKktglTJZ3qo"
      },
      "execution_count": null,
      "outputs": []
    },
    {
      "cell_type": "code",
      "source": [
        "# área para plotar o gráfico\n",
        "plt.figure(figsize=(8, 6))\n",
        "\n",
        "# seleção da variável e configuração da plotagem\n",
        "sns.boxplot(data=df['duration'], color='#212738', width=0.6)\n",
        "\n",
        "# criação de variáveis para destacar as estatísticas mais importantes\n",
        "mediana_duration = df['duration'].median()\n",
        "media_duration = df['duration'].mean()\n",
        "q1_duration = df['duration'].quantile(0.25)\n",
        "q3_duration = df['duration'].quantile(0.75)\n",
        "\n",
        "# variável de referência para ajuste de escala do eixo y\n",
        "iqr = q3_duration - q1_duration\n",
        "\n",
        "# configuração das estatísticas mais importantes e ajuste de escala no eixo y\n",
        "## escala do eixo y foi ajustada para melhor legibilidade em função de muitos outliers\n",
        "plt.axhline(mediana_duration, color='#F17300', linestyle='-.', linewidth=1.2, label=f'Mediana: {mediana_duration:.0f} segundos')\n",
        "plt.axhline(media_duration, color='#86B0D5', linestyle='--', linewidth=1.2, label=f'Média: {media_duration:.0f} segundos')\n",
        "plt.axhline(q1_duration, linestyle='none', label=f'1º Quartil: {q1_duration:.0f} segundos')\n",
        "plt.axhline(q3_duration, linestyle='none', label=f'3º Quartil: {q3_duration:.0f} segundos')\n",
        "plt.ylim([q1_duration - 3*iqr, q3_duration + 3*iqr])\n",
        "plt.legend()\n",
        "\n",
        "# configuração dos aspectos do gráfico\n",
        "plt.title('Distribuição da duração do último contato com o cliente (em segundos)')\n",
        "plt.ylabel('Duração do último contato com o cliente')\n",
        "plt.rcParams['grid.color'] = '#DEE3E0'\n",
        "\n",
        "# visualização da plotagem\n",
        "plt.show()"
      ],
      "metadata": {
        "id": "WtMLuC1fZ5zO"
      },
      "execution_count": null,
      "outputs": []
    },
    {
      "cell_type": "markdown",
      "source": [
        "- A distribuição da duração do último contato dos clientes se mostra Assimétrica Positiva, unimodal, concentrada nas faixas 0 (ligação não completada) a 620 segundos, demonstrando que as ligações tendem a ser mais curtas.\n",
        "- Com média acima da mediana, a distribuição por duração do último contato dos clientes se mostra desbalanceada, com 50% dos clientes permanecendo em ligação entre 103 e 319 segundos.\n",
        "- Poucos outliers proporcionalmente ao número total.\n",
        "\n",
        "*** OBS**: para essa dimensão específica, cabe destacar a descrição que o próprio autor do dataset inseriu (traduzido):\n",
        "*\"[...] este atributo afeta consideravelmente o resultado de saída (por exemplo, se duração=0, então y='não'). No entanto, a duração não é conhecida antes de um contato ser realizado. Além disso, após o término do contato, y é obviamente conhecido. Assim, este input só deve ser incluído para fins de benchmark e deve ser descartado se a intenção for ter um modelo preditivo realista.\"*"
      ],
      "metadata": {
        "id": "8_U9CAvYfnvx"
      }
    },
    {
      "cell_type": "markdown",
      "source": [
        "##### Análise - contatos feitos"
      ],
      "metadata": {
        "id": "HWL5dLGLhP_b"
      }
    },
    {
      "cell_type": "code",
      "source": [
        "# área para plotar o gráfico\n",
        "plt.figure(figsize=(16, 6))\n",
        "\n",
        "# seleção da variável e configuração da plotagem\n",
        "n, bins, patches = plt.hist(df['campaign'], bins=10, edgecolor='#F2F4F3',\n",
        "                            color='#FFAE80')\n",
        "\n",
        "# adição de rótulos nos dados\n",
        "for i in range(len(n)):\n",
        "    if n[i] > 0:\n",
        "        plt.text(bins[i] + (bins[i+1] - bins[i])/2, n[i],\n",
        "                 str(int(n[i])),\n",
        "                 ha='center',\n",
        "                 va='bottom')\n",
        "\n",
        "# configuração dos aspectos do gráfico\n",
        "plt.title('Distribuição de contatos feitos com o cliente')\n",
        "plt.xlabel('Contatos feitos com o cliente')\n",
        "plt.ylabel('Frequência')\n",
        "\n",
        "# visualização da plotagem\n",
        "plt.show()"
      ],
      "metadata": {
        "id": "-kRtodFrNmqT"
      },
      "execution_count": null,
      "outputs": []
    },
    {
      "cell_type": "markdown",
      "source": [
        "Como o histograma traz poucas informações (a distribuição fica muito concentrada em uma faixa que é importante analisar melhor), entendo ser necessário usar um gráfico de barras simples para destacar melhor a distribuição entre 1 e 8 contatos"
      ],
      "metadata": {
        "id": "3BrJSx1FHHB6"
      }
    },
    {
      "cell_type": "code",
      "source": [
        "# área para plotar o gráfico\n",
        "plt.figure(figsize=(14,8))\n",
        "\n",
        "# seleção da variável e configuração da plotagem\n",
        "ax = df['campaign'].value_counts().sort_values(ascending=False).plot(kind='bar', color='#FFAE80')\n",
        "\n",
        "# adição de rótulo nos dados\n",
        "for container in ax.containers:\n",
        "    ax.bar_label(container, label_type='edge', padding=3, color='#212738')\n",
        "\n",
        "# configuração dos aspectos do gráfico (com ênfase na distribuição mostrada no histograma anterior)\n",
        "ax.set_title('Quantidade de contatos feitos com o cliente')\n",
        "ax.set_ylabel('Clientes')\n",
        "ax.set_xlabel('Quantidade de contatos')\n",
        "ax.set_xlim(-1,7.5)\n",
        "\n",
        "# visualização da plotagem\n",
        "plt.show()"
      ],
      "metadata": {
        "id": "O5X-r9qjG6JD"
      },
      "execution_count": null,
      "outputs": []
    },
    {
      "cell_type": "code",
      "source": [
        "# área para plotar o gráfico\n",
        "plt.figure(figsize=(8, 6))\n",
        "\n",
        "# seleção da variável e configuração da plotagem\n",
        "sns.boxplot(data=df['campaign'], color='#212738', width=0.6)\n",
        "\n",
        "# criação de variáveis para destacar as estatísticas mais importantes\n",
        "mediana_campaign = df['campaign'].median()\n",
        "media_campaign = df['campaign'].mean()\n",
        "q1_campaign = df['campaign'].quantile(0.25)\n",
        "q3_campaign = df['campaign'].quantile(0.75)\n",
        "\n",
        "# variável de referência para ajuste de escala do eixo y\n",
        "iqr = q3_campaign - q1_campaign\n",
        "\n",
        "# configuração das estatísticas mais importantes e ajuste de escala no eixo y\n",
        "## escala do eixo y foi ajustada para melhor legibilidade em função de muitos outliers\n",
        "plt.axhline(mediana_campaign, color='#F17300', linestyle='-.', linewidth=1.2, label=f'Mediana: {mediana_campaign:.0f} contatos')\n",
        "plt.axhline(media_campaign, color='#86B0D5', linestyle='--', linewidth=1.2, label=f'Média: {media_campaign:.0f} contatos')\n",
        "plt.axhline(q1_campaign, linestyle='none', label=f'1º Quartil: {q1_campaign:.0f} contatos')\n",
        "plt.axhline(q3_campaign, linestyle='none', label=f'3º Quartil: {q3_campaign:.0f} contatos')\n",
        "plt.ylim([q1_campaign - 3*iqr, q3_campaign + 3*iqr])\n",
        "plt.legend()\n",
        "\n",
        "# configuração dos aspectos do gráfico\n",
        "plt.title('Distribuição de contatos feitos com o cliente')\n",
        "plt.ylabel('Contatos feitos com o cliente')\n",
        "plt.rcParams['grid.color'] = '#DEE3E0'\n",
        "\n",
        "# visualização da plotagem\n",
        "plt.show()"
      ],
      "metadata": {
        "id": "KjsljpjxNm1g"
      },
      "execution_count": null,
      "outputs": []
    },
    {
      "cell_type": "markdown",
      "source": [
        "- A distribuição da contatos feitos com o cliente se mostra Assimétrica Positiva, unimodal, concentrada nas faixas de 1 a 8 contatos, com destaque claro para clientes com 1 ou 2 contatos.\n",
        "- Com média levemente acima da mediana, a distribuição por duração do último contato dos clientes se mostra desbalanceada, com cerca de 66,46% do total de contatos realizados concentrados entre 1 e 2 contatos.\n",
        "- Poucos outliers proporcionalmente ao número total."
      ],
      "metadata": {
        "id": "vimWW3pMC_HY"
      }
    },
    {
      "cell_type": "markdown",
      "source": [
        "##### Análise - dias desde o último contato na última campanha"
      ],
      "metadata": {
        "id": "6rS_mwNKJ9pZ"
      }
    },
    {
      "cell_type": "code",
      "source": [
        "# área para plotar o gráfico\n",
        "plt.figure(figsize=(16, 6))\n",
        "\n",
        "# seleção da variável e configuração da plotagem\n",
        "n, bins, patches = plt.hist(df['pdays'], bins=10, edgecolor='#F2F4F3',\n",
        "                            color='#FFAE80')\n",
        "\n",
        "# adição de rótulos nos dados\n",
        "for i in range(len(n)):\n",
        "    if n[i] > 0:\n",
        "        plt.text(bins[i] + (bins[i+1] - bins[i])/2, n[i],\n",
        "                 str(int(n[i])),\n",
        "                 ha='center',\n",
        "                 va='bottom')\n",
        "\n",
        "# configuração dos aspectos do gráfico\n",
        "plt.title('Distribuição de dias desde o último contato com o cliente na última campanha')\n",
        "plt.xlabel('Dias desde o último contato com o cliente na última campanha')\n",
        "plt.ylabel('Frequência')\n",
        "\n",
        "# visualização da plotagem\n",
        "plt.show()"
      ],
      "metadata": {
        "id": "_B5PR8ufKUPq"
      },
      "execution_count": null,
      "outputs": []
    },
    {
      "cell_type": "markdown",
      "source": [
        "Assim como na análise de contatos, o histograma traz poucas informações (a distribuição fica muito concentrada em uma faixa que é importante analisar melhor), sendo necessário usar um gráfico de barras simples para destacar melhor a distribuição entre -1 e 86 dias"
      ],
      "metadata": {
        "id": "XFmBJPmdK1QO"
      }
    },
    {
      "cell_type": "code",
      "source": [
        "# área para plotar o gráfico\n",
        "plt.figure(figsize=(14,8))\n",
        "\n",
        "# seleção da variável e configuração da plotagem\n",
        "ax = df['pdays'].value_counts().sort_values(ascending=False).plot(kind='bar', color='#FFAE80')\n",
        "\n",
        "# adição de rótulo nos dados\n",
        "for container in ax.containers:\n",
        "    ax.bar_label(container, label_type='edge', padding=3, color='#212738')\n",
        "\n",
        "# configuração dos aspectos do gráfico (com ênfase na distribuição mostrada no histograma anterior)\n",
        "ax.set_title('Quantidade de dias desde o último contato com o cliente na última campanha')\n",
        "ax.set_ylabel('Clientes')\n",
        "ax.set_xlabel('Quantidade de dias')\n",
        "ax.set_xlim(-1,7.5)\n",
        "\n",
        "# visualização da plotagem\n",
        "plt.show()"
      ],
      "metadata": {
        "id": "_xbM9yvmK0uo"
      },
      "execution_count": null,
      "outputs": []
    },
    {
      "cell_type": "markdown",
      "source": [
        "Nessa visão, notamos ausência de contatos (por quaisquer motivos) feitos na última campanha em 81,74% da base."
      ],
      "metadata": {
        "id": "JFGJmy9VLm5D"
      }
    },
    {
      "cell_type": "code",
      "source": [
        "# área para plotar o gráfico\n",
        "plt.figure(figsize=(8, 6))\n",
        "\n",
        "# seleção da variável e configuração da plotagem\n",
        "sns.boxplot(data=df['pdays'], color='#212738', width=0.6)\n",
        "\n",
        "# criação de variáveis para destacar as estatísticas mais importantes\n",
        "mediana_diap = df['pdays'].median()\n",
        "media_diap = df['pdays'].mean()\n",
        "q1_diap = df['pdays'].quantile(0.25)\n",
        "q3_diap = df['pdays'].quantile(0.75)\n",
        "\n",
        "# configuração das estatísticas mais importantes\n",
        "plt.axhline(mediana_diap, color='#F17300', linestyle='-.', linewidth=1.2, label=f'Mediana: {mediana_diap:.0f} dias')\n",
        "plt.axhline(media_diap, color='#86B0D5', linestyle='--', linewidth=1.2, label=f'Média: {media_diap:.0f} dias')\n",
        "plt.axhline(q1_diap, linestyle='none', label=f'1º Quartil: {q1_diap:.0f} dias')\n",
        "plt.axhline(q3_diap, linestyle='none', label=f'3º Quartil: {q3_diap:.0f} dias')\n",
        "plt.legend()\n",
        "\n",
        "# configuração dos aspectos do gráfico\n",
        "plt.title('Distribuição do último dia do mês de contato com o cliente')\n",
        "plt.ylabel('Último dia do mês de contato com o cliente')\n",
        "plt.rcParams['grid.color'] = '#DEE3E0'\n",
        "\n",
        "# visualização da plotagem\n",
        "plt.show()"
      ],
      "metadata": {
        "id": "-Fj79tp0KUBX"
      },
      "execution_count": null,
      "outputs": []
    },
    {
      "cell_type": "markdown",
      "source": [
        "Levando em consideração o contexto dessa dimensão (>81% da base sem registro de contatos), praticamente todos os demais valores se tornam outliers, o que inviabiliza a análise de insights."
      ],
      "metadata": {
        "id": "ovutJj6XKUkm"
      }
    },
    {
      "cell_type": "markdown",
      "source": [
        "##### Análise - contatos feitos antes da campanha atual"
      ],
      "metadata": {
        "id": "cnZ_gnHtNP7Q"
      }
    },
    {
      "cell_type": "code",
      "source": [
        "# área para plotar o gráfico\n",
        "plt.figure(figsize=(14, 6))\n",
        "\n",
        "# seleção da variável e configuração da plotagem\n",
        "n, bins, patches = plt.hist(df['previous'], bins=10, edgecolor='#F2F4F3', color='#FFAE80')\n",
        "\n",
        "# adição de rótulos nos dados\n",
        "for i in range(len(n)):\n",
        "    if n[i] > 0:\n",
        "        plt.text(bins[i] + (bins[i+1] - bins[i])/2, n[i],\n",
        "                 str(int(n[i])),\n",
        "                 ha='center',\n",
        "                 va='bottom')\n",
        "\n",
        "# configuração dos aspectos do gráfico\n",
        "plt.title('Distribuição de contatos feitos com o cliente antes da campanha atual')\n",
        "plt.xlabel('Contatos feitos com o cliente antes da campanha atual')\n",
        "plt.ylabel('Frequência')\n",
        "\n",
        "# visualização da plotagem\n",
        "plt.show()"
      ],
      "metadata": {
        "id": "2zq65HoaNat0"
      },
      "execution_count": null,
      "outputs": []
    },
    {
      "cell_type": "markdown",
      "source": [
        "Também para essa análise, o histograma traz poucas informações (a distribuição fica muito concentrada em uma faixa que é importante analisar melhor), sendo necessário usar um gráfico de barras simples para destacar melhor a distribuição entre 0 e 13 contatos"
      ],
      "metadata": {
        "id": "xIFiIk38OfpK"
      }
    },
    {
      "cell_type": "code",
      "source": [
        "# área para plotar o gráfico\n",
        "plt.figure(figsize=(14,8))\n",
        "\n",
        "# seleção da variável e configuração da plotagem\n",
        "ax = df['previous'].value_counts().sort_values(ascending=False).plot(kind='bar', color='#FFAE80')\n",
        "\n",
        "# adição de rótulo nos dados\n",
        "for container in ax.containers:\n",
        "    ax.bar_label(container, label_type='edge', padding=3, color='#212738')\n",
        "\n",
        "# configuração dos aspectos do gráfico (com ênfase na distribuição mostrada no histograma anterior)\n",
        "ax.set_title('Contatos feitos com o cliente antes da campanha atual')\n",
        "ax.set_ylabel('Clientes')\n",
        "ax.set_xlabel('Contatos feitos')\n",
        "ax.set_xlim(-1,7.5)\n",
        "\n",
        "# visualização da plotagem\n",
        "plt.show()"
      ],
      "metadata": {
        "id": "dCs_Xtj-OsYr"
      },
      "execution_count": null,
      "outputs": []
    },
    {
      "cell_type": "markdown",
      "source": [
        "Com forte relação com a análise anterior, temos o mesmo percentual com 0 contatos feitos antes da campanha atual: 81,74%"
      ],
      "metadata": {
        "id": "feGrVAUFPCu3"
      }
    },
    {
      "cell_type": "code",
      "source": [
        "# área para plotar o gráfico\n",
        "plt.figure(figsize=(8, 8))\n",
        "\n",
        "# seleção da variável e configuração da plotagem\n",
        "sns.boxplot(data=df['previous'], color='#212738', width=0.6)\n",
        "\n",
        "# criação de variáveis para destacar as estatísticas mais importantes\n",
        "mediana_cont_ant = df['previous'].median()\n",
        "media_cont_ant = df['previous'].mean()\n",
        "q1_cont_ant = df['previous'].quantile(0.25)\n",
        "q3_cont_ant = df['previous'].quantile(0.75)\n",
        "\n",
        "# configuração das estatísticas mais importantes\n",
        "plt.axhline(mediana_cont_ant, color='#F17300', linestyle='-.', linewidth=1.2, label=f'Mediana: {mediana_cont_ant:.0f} anos')\n",
        "plt.axhline(media_cont_ant, color='#86B0D5', linestyle='--', linewidth=1.2, label=f'Média: {media_cont_ant:.1f} anos')\n",
        "plt.axhline(q1_cont_ant, linestyle='none', label=f'1º Quartil: {q1_cont_ant:.0f} anos')\n",
        "plt.axhline(q3_cont_ant, linestyle='none', label=f'3º Quartil: {q3_cont_ant:.0f} anos')\n",
        "plt.legend()\n",
        "\n",
        "# configuração dos aspectos do gráfico\n",
        "plt.title('Distribuição contatos feitos com o cliente antes da campanha atual')\n",
        "plt.ylabel('Contatos feitos com o cliente antes da campanha atual')\n",
        "plt.rcParams['grid.color'] = '#DEE3E0'\n",
        "\n",
        "# visualização da plotagem\n",
        "plt.show()"
      ],
      "metadata": {
        "id": "wxGen8GxNbB6"
      },
      "execution_count": null,
      "outputs": []
    },
    {
      "cell_type": "markdown",
      "source": [
        "Levando em consideração o contexto dessa dimensão (>81% da base sem registro de contatos), praticamente todos os demais valores se tornam outliers, o que inviabiliza a análise de insights."
      ],
      "metadata": {
        "id": "S_sGlJe3NbWi"
      }
    },
    {
      "cell_type": "markdown",
      "source": [
        "# Pré-processamento de dados\n",
        "\n",
        "Passada a primeira etapa de análise exploratória dos dados, a etapa de pré-processamento dos dados se mostra importante no sentido de prosseguir a análise fazendo algumas transformações a fim de complementar o entendimento e concluir mais apropriadamente sobre as hipóteses levantadas inicialmente."
      ],
      "metadata": {
        "id": "h5YcD9R3sI86"
      }
    },
    {
      "cell_type": "markdown",
      "source": [
        "## Tratamento de valores ausentes\n",
        "\n",
        "A fim de validar se existem valores nulos que precisem ser tratados, é importante varrer o dataset (inclusive para corroborar com os achados da matriz de correlação)"
      ],
      "metadata": {
        "id": "qsk3MvVSxfd4"
      }
    },
    {
      "cell_type": "code",
      "source": [
        "# validação de valores ausentes nas colunas do dataset\n",
        "print(\"Valores ausentes por dimensão:\")\n",
        "df.isnull().sum()"
      ],
      "metadata": {
        "id": "pQby2Cjuxge7"
      },
      "execution_count": null,
      "outputs": []
    },
    {
      "cell_type": "markdown",
      "source": [
        "Apesar de não existirem valores nulos, a informação 'unknown' das colunas 'contact' (maior grau) e 'poutcome' (menor grau) são problemáticas por não agregarem valor ao dataset nessa forma. Neste sentido, serão tratadas como categoria separada a fim de não enviesar a análise (no caso de exclusão)"
      ],
      "metadata": {
        "id": "D4GhobV7xfz2"
      }
    },
    {
      "cell_type": "markdown",
      "source": [
        "## Criação de cópia do dataset original\n",
        "\n",
        "Na etapa de pré-processamento de dados, é importante não alterar diretamente o dataframe original (df) a fim de mantê-lo coerente para futuras comparações"
      ],
      "metadata": {
        "id": "yqVfZovXS_Nd"
      }
    },
    {
      "cell_type": "code",
      "source": [
        "# criação de uma cópia do dataset original\n",
        "df_copia = df.copy()"
      ],
      "metadata": {
        "id": "_rJqKgsFS8vu"
      },
      "execution_count": null,
      "outputs": []
    },
    {
      "cell_type": "markdown",
      "source": [
        "## Tratamento de dimensões\n",
        "\n",
        "O tratamento das dimensões do dataset visa prepará-lo para utilização em algoritmos de ML"
      ],
      "metadata": {
        "id": "U4O_rJEp7tiH"
      }
    },
    {
      "cell_type": "markdown",
      "source": [
        "### Engenharia de features\n",
        "\n",
        "Para validar as hipóteses iniciais, é importante estabelecer algumas técnicas de engenharia de features"
      ],
      "metadata": {
        "id": "T5FBUgEn4f49"
      }
    },
    {
      "cell_type": "code",
      "source": [
        "# transformação da dimensão 'job' a fim de agregá-la em grupos\n",
        "emprego_rotulos = {\n",
        "    'admin.': 'white-collar',\n",
        "    'blue-collar': 'blue-collar',\n",
        "    'entrepreneur': 'self-employed',\n",
        "    'housemaid': 'service',\n",
        "    'management': 'white-collar',\n",
        "    'retired': 'retired',\n",
        "    'self-employed': 'self-employed',\n",
        "    'services': 'service',\n",
        "    'student': 'student',\n",
        "    'technician': 'white-collar',\n",
        "    'unemployed': 'unemployed',\n",
        "    'unknown': 'unknown'\n",
        "}\n",
        "df_copia['job_group'] = df_copia['job'].map(emprego_rotulos)"
      ],
      "metadata": {
        "id": "Sl9Cf2PJ5QUS"
      },
      "execution_count": null,
      "outputs": []
    },
    {
      "cell_type": "code",
      "source": [
        "# transformação da dimensão 'marital' a fim de simplificá-la\n",
        "df_copia['marital_simple'] = df_copia['marital'].apply(\n",
        "    lambda x: 'married' if x == 'married' else 'not married'\n",
        "    )"
      ],
      "metadata": {
        "id": "8haFDIDM9ot6"
      },
      "execution_count": null,
      "outputs": []
    },
    {
      "cell_type": "code",
      "source": [
        "# transformação das dimensões 'default', 'housing' e 'loan' a fim de agregá-las em grupos\n",
        "df_copia['has_credit'] = df_copia.apply(\n",
        "    lambda row: 'yes' if row['default'] == 'yes' or row['housing'] == 'yes' or row['loan'] == 'yes' else 'no',\n",
        "    axis=1\n",
        "    )"
      ],
      "metadata": {
        "id": "kNOEcHCa-vVk"
      },
      "execution_count": null,
      "outputs": []
    },
    {
      "cell_type": "code",
      "source": [
        "# transformação das dimensões 'default' e 'job' a fim de agregá-las em grupos\n",
        "df_copia['default_unemployed'] = df_copia.apply(\n",
        "    lambda row: 'yes' if row['default'] == 'yes' and row['job'] == 'unemployed' else 'no',\n",
        "    axis=1\n",
        ")"
      ],
      "metadata": {
        "id": "t2S3HsI7BHlz"
      },
      "execution_count": null,
      "outputs": []
    },
    {
      "cell_type": "code",
      "source": [
        "# discretização da dimensão 'age' para melhor distribuição\n",
        "df_copia['age_group'] = pd.cut(df_copia['age'],\n",
        "                             bins=[0, 37, 55, 73, 91, 109],\n",
        "                             labels=['18-36', '37-54', '55-72', '73-90', '>90'])"
      ],
      "metadata": {
        "id": "4WyiSKDfFlgz"
      },
      "execution_count": null,
      "outputs": []
    },
    {
      "cell_type": "code",
      "source": [
        "# transformação da variável target 'y' em booleano\n",
        "df_copia['y'] = df_copia['y'].map({'no': 0, 'yes': 1})"
      ],
      "metadata": {
        "id": "hJRTX9e_Khk5"
      },
      "execution_count": null,
      "outputs": []
    },
    {
      "cell_type": "markdown",
      "source": [
        "### Label encoding\n",
        "\n",
        "Após a etapa de engenharia de features, o label encoding vai transformar variáveis ordinais em formato numérico"
      ],
      "metadata": {
        "id": "Ujl2KI0ME0Nu"
      }
    },
    {
      "cell_type": "code",
      "source": [
        "# label encoding para variáveis ordinais e novas categóricas aplicáveis\n",
        "cols_ordinais = ['education', 'month'] + ['marital_simple', 'age_group']\n",
        "for col in cols_ordinais:\n",
        "    if col in df_copia.columns:\n",
        "        df_copia[col] = LabelEncoder().fit_transform(df_copia[col])"
      ],
      "metadata": {
        "id": "QEqG0jYqFINi"
      },
      "execution_count": null,
      "outputs": []
    },
    {
      "cell_type": "markdown",
      "source": [
        "### Dummy encoding\n",
        "\n",
        "Em seguida, o dummy encoding vai transformar variáveis categóricas em formato numérico, mantendo a relação ordinal quando aplicável"
      ],
      "metadata": {
        "id": "sTZvJWsSI9Mo"
      }
    },
    {
      "cell_type": "code",
      "source": [
        "# dummy encoding para variáveis nominais e novas categóricas aplicáveis\n",
        "nominal_cols = ['job', 'marital', 'default', 'housing', 'loan', 'contact', 'poutcome', 'job_group', 'has_credit', 'default_unemployed']\n",
        "df_copia = pd.get_dummies(df_copia, columns=nominal_cols, drop_first=True)"
      ],
      "metadata": {
        "id": "aDAkiR5tI9qF"
      },
      "execution_count": null,
      "outputs": []
    },
    {
      "cell_type": "markdown",
      "source": [
        "### Separação entre conjuntos de teste e de treino\n",
        "\n",
        "Feitas as primeiras transformações no dataset original, é necessário separar suas instâncias em grupos de treino e teste para os algoritmos de ML"
      ],
      "metadata": {
        "id": "DDsvi3CaNnWY"
      }
    },
    {
      "cell_type": "code",
      "source": [
        "# separação das dimensões de entrada (x) e variável target (y)\n",
        "X = df_copia.drop('y', axis=1)\n",
        "y = df_copia['y']\n",
        "\n",
        "# divisão dos dados em conjuntos de treino e teste\n",
        "X_train, X_test, y_train, y_test = train_test_split(X, y, test_size=0.3, random_state=42, stratify=y)"
      ],
      "metadata": {
        "id": "YYGxHu4LNppb"
      },
      "execution_count": null,
      "outputs": []
    },
    {
      "cell_type": "markdown",
      "source": [
        "Utilizei a mesma estrutura do template indicado pois garante uma estrutura importante: prepara os dados para ML, separando as variáveis independentes (x) da dependente (y), e depois divide ambos em treino (70%) e teste (30%), mantendo a distribuição original das dimensões originais."
      ],
      "metadata": {
        "id": "1cBLJhw9NqED"
      }
    },
    {
      "cell_type": "markdown",
      "source": [
        "### Normalização\n",
        "\n",
        "Separados os grupos, a normalização será importante para ajustar dimensões numéricas cuja distribuição não é normal"
      ],
      "metadata": {
        "id": "tNKK1JfIOJBv"
      }
    },
    {
      "cell_type": "code",
      "source": [
        "# seleção colunas numéricas contínuas (excluindo binárias/categóricas/transformadas)\n",
        "cols_numericas = ['age', 'balance', 'duration', 'campaign', 'pdays', 'previous']\n",
        "\n",
        "# normalização usando as colunas selecionadas\n",
        "scaler = MinMaxScaler()\n",
        "X_train[cols_numericas] = scaler.fit_transform(X_train[cols_numericas])\n",
        "X_test[cols_numericas] = scaler.transform(X_test[cols_numericas])"
      ],
      "metadata": {
        "id": "i1Yxy_ntOJYW"
      },
      "execution_count": null,
      "outputs": []
    },
    {
      "cell_type": "markdown",
      "source": [
        "## Estatísticas descritivas transformadas\n",
        "\n",
        "Feitas todas as transformações necessárias, são apresentadas as estatísticas descritivas do dataset transformado e ajustado para ser consumido por algoritmos de ML"
      ],
      "metadata": {
        "id": "vziy9saWCzpX"
      }
    },
    {
      "cell_type": "code",
      "source": [
        "# apresentação das estatísticas descritivas do dataset após transformações\n",
        "print(\"\\nEstatísticas descritivas:\")\n",
        "df_copia.describe(include='all')"
      ],
      "metadata": {
        "id": "VG3pRihC816U"
      },
      "execution_count": null,
      "outputs": []
    },
    {
      "cell_type": "code",
      "source": [
        "# primeiras linhas do dataset após transformações\n",
        "print(\"\\nDataset após transformações:\")\n",
        "df_copia.head()"
      ],
      "metadata": {
        "id": "eb1UD9k-9AXP"
      },
      "execution_count": null,
      "outputs": []
    },
    {
      "cell_type": "code",
      "source": [
        "# apresentação das estatísticas descritivas do conjunto de treino após normalização\n",
        "print(\"\\nEstatísticas descritivas:\")\n",
        "df_copia.describe(include='all')"
      ],
      "metadata": {
        "id": "fIHd2Oziq3xu"
      },
      "execution_count": null,
      "outputs": []
    },
    {
      "cell_type": "code",
      "source": [
        "# primeiras linhas do conjunto de treino após normalização\n",
        "print(\"\\nDataset após transformações:\")\n",
        "X_train.head()"
      ],
      "metadata": {
        "id": "UTdiaZVkqnTv"
      },
      "execution_count": null,
      "outputs": []
    },
    {
      "cell_type": "markdown",
      "source": [
        "# Conclusão\n",
        "\n",
        "O dataset Bank Marketing é limpo e desbalanceado, com ausência de informações tratadas com a instância 'unknown'. A análise exploratória demonstrou o desbalanceamento e a falta de correlação das dimensões entre si, ensejando algumas transformações na etapa seguinte de pré-processamento. Aqui, as variáveis categóricas e numéricas (quando aplicável) passaram por uma série de transformações (engenharia de features e normalização) para preparar o dataset de modo que seja utilizado por algoritmos de ML.\n"
      ],
      "metadata": {
        "id": "QAhY3qoEr7aw"
      }
    },
    {
      "cell_type": "markdown",
      "source": [
        "Sobre as hipóteses levantadas inicialmente, cabe destacar:\n",
        "\n",
        "**1. A taxa de conversão é baixa no geral >**\n",
        "Confirmado: apenas 11,70% dos clientes da campanha tiveram conversão positiva\n",
        "\n",
        "**2. Clientes mais velhos possuem taxa de conversão maior >**\n",
        "Questionável: independente do recorte entendido como \"mais velhos\", a distribuição por idade se mostra balanceada, com maior número\n",
        "\n",
        "**3. Clientes com empregos operacionais ('blue-collar') possuem taxa de conversão menor >**\n",
        "Confirmado: cerca de 7,27% dos clientes blue-collar tiveram conversão positiva\n",
        "\n",
        "**4. Clientes casados possuem taxa de conversão maior >**\n",
        "Não confirmado: cerca de 10,12% dos clientes casados ('married') tiveram conversão positiva; os clientes solteiros ('single') tiveram cerca de 14,95% de conversão positiva\n",
        "\n",
        "**5. Clientes com maior escolaridade possuem taxa de conversão maior >**\n",
        "Confirmado: cerca de 15,01% dos clientes universitários ('tertiary') tiveram conversão positiva\n",
        "\n",
        "**6. Clientes com histórico de inadimplência possuem taxa de conversão menor >**\n",
        "Confirmado: cerca de 6,38% dos clientes inadimplentes ('default' = yes) tiveram conversão positiva\n",
        "\n",
        "**7. Clientes com algum tipo de crédito tomado (financiamento habitacional ou empréstimo pessoal) possuem taxa de conversão menor >**\n",
        "Confirmado: cerca de 7,70% dos clientes com financiamento habitacional ('housing') e 6,68% dos clientes com empréstimo pessoal tiveram conversão positiva\n",
        "\n",
        "**8. Existem valores ausentes no dataset >**\n",
        "Confirmado: apesar de não existirem instâncias vazias, as informações ausentes estão preenchidas no dataset como 'unknown' e possuem grande representatividade nas dimensões 'contact' (28,80%) e 'poutcome' (81,75%), demonstrando dificuldades no registro correto de informações de forma da campanha atual e histórico da campanha anterior"
      ],
      "metadata": {
        "id": "X_IWuJtmF8fK"
      }
    }
  ]
}